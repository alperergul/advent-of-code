{
 "cells": [
  {
   "cell_type": "code",
   "execution_count": 4,
   "outputs": [],
   "source": [
    "with open(\"./day6_data.txt\", \"r\") as file:\n",
    "    data = file.readline()"
   ],
   "metadata": {
    "collapsed": false,
    "pycharm": {
     "name": "#%%\n"
    }
   }
  },
  {
   "cell_type": "code",
   "execution_count": 5,
   "outputs": [
    {
     "data": {
      "text/plain": "'wzsspbssbhshchmmrmprmrfrsfrrjhjphjjtppbfflqfqppdhdbhdhbbjgghgzgsgfsfhfhvvwcwhwwnppsbsggqnnvvtffpssjfjnnltntdtdddptprppjmmqssrlrplllfrrzggbmmlmnmtnnzddfdgfdfsstbstbbzcbbcjcvvfwwwzlzssglsgllnbnmbnmbbgmmppmwwsrrzqqvgqgnqnmmswwrnnbsnnbdbwwqnwqnwwzzqwzqzjqqwbqbccjcwwjlwjwppqfqjffwddrzrjzrjzzzhchjjlqqrggzvvnlvnvjvhvnvjvbbvdvldldbbwddtsscbbhccmbmbppbmmgjggcjjlrrwjwtjwwmffgddwvdvbdbvvhchmhmdmwwbjbjcbbcmbmmslmlslsjjrnrjrjpjcjgcjcjbbwsbsbfssjzsjsggcmcsswgssbbqpbqqdsdqqztzmzpmpbmbvbjjtrjtthwhbhnbhnbnssvpvsppgrrcwrrmqqhpphrpphchvhphqhbqbtttllsrlsrshrrmhmvvrmrnngbgnbnpbprrrftfjtjwwmrmvmcmvmrmwmssrccfbbhppjbpbwbqwbqbzzfmzmtttjbbvcvppmwwrbbzsbzbfzfdzzhrhzhvvsqvsqsnslljwllqlwllvccnttzhtzzpspqspqsqgsssvnsvshvsvqvnvlldbbfdfmmpbpgphhpqhpppchhbfbrfrllntnznrrhdrdhhdhjjgwwqhhfssjbjwjqqbffvvcrchccwmcwcllljtjrrqgrrdcrddvfvwvzzjqqcffgjgzzdhdwdssffjjhccggmtmltlhtthzhvhlvlddsfsbbtjbjcbjcjzcjjpfjfzzpnnbtbqtbqtqptpnplllbzbllhbllnqnttpddqvdqvqmmjnjggnnnhqqfcqcffqppdgpddvqddmhmrhrtrmrzmzhzpzlzqlqpqhphrpppjqqppzbzmmjgggqtggtjthhlclnclcnccmcppdcpddqrrfgrgbbhwhdhrrqtqpqjpqjpqjqqmcqmccnngqqqmtqtssnvnzvvpcpwcwwqcqqqfcqffsvsmvmttttmrrzssghgssjmsmbmvvwggggzhhfvdpgjmmvzbfjghqhrfbpmbvjzwvfmcthrqwdhghpwsspmhpqnmwhjzpnlzfnvhdnnrqwnvctbmjqzhqrpjlwrssdlwqzmsfrfzmgjhnwwnwczswnhsdbvqbmdlvntsdrhrjjcjjhpbblgwhjwdcdjtpvtmslwvncwdjbwzvbpzbvddvssnrhtshrcvnhqnpmjzfswqbbrztnwjcpflfbhnphfwmjvnvtswgfttgjcqcngmmwjlfsprwfcfwcmgrgbnqmzbtzbtbztngvrzpsnrzvhbsdjnzpwwzllgnfdrlwpmnrznqsqcmvnfbnhqjddvcjmtgbpbmsgqdqzflmlmqncmhwltrmdmgnwpfwddrdpfhsgsnggchzjhgpwrsmdzgjtrgmnprhbwbcbpzbdvvstfqcnqzbdjqpmrdbtgcthtclftghhmnrzrjqqsbndhpvmdpfpwdlhvmczvdfgvpqclssvlhqnhlcfnfbvtspdzmgzdctvpdcwchtqhpsgmmblspjdlvgblbpgrfrgnqqsphcsrgfsdmpqscbjmnqrfbcwfthdtswbzthpnvsfbntnbmmgpfzlqwhppvvdrmwbqzbgppbgsqmjfqtmntgwpnccthftwdmvwmnchlbjhsnmbhndczbrhhjpbvnjdzrcndbbmfwfwsjwfgbqhwhrsvlngsbhhlrdjzzbmjpsqhlpzwcsntjhlmngblspmsjrjwsjsrqwnrcwsmcsbmpjwrthbqhrschrmrppnnbmjbvjzlmzsrfdwqlfnfjljftjvzsqdwlhbblqcdlqjbprpcllhlhmwrbrlgfrcqshrtjpnmhljttdvpfnhdjqvjhhfczwvbzqgnzgljcfrbpgwnfhfchwzqmqqzpbcdpqmnbrppzblnnzqrfnmgtljwnfgzwvnjppdbdhbznvpgwhbdjjvlspgwgjsmfsvllpgwlfnnptmwnfsshjjvqzjwrqpvmsphpmftqdllqqdzcjwfvpftgvspprdwvvcnglmbpntghntdwpjvvsppgjvnbjgvtzchtqtwbddncsbrfcvrnvlggvwgmmnfzrswnzjrwthzmdsmzqmzsnrqsnslnhmfqljnnnzshqfqshrhhjmnhdgphctswdbhnrcgnzmmzqpjqbtdfhhltsmvvtntbgsznshhsghblhlhqpmdcfhmnfzvhgnfsfflcfwbfqzmccrjdpfvphtqbrdnzjfmfhbzqcpdnjdcgwprvchlzrcvrghgjqncjvnndbcshntrfsbsnmjlhclnzpfdgztflcpwqpnvlscfndwqzfvcmpgfncszpmwcsrdbrrhdjvmthslfvmlgpqhlgwhqnjljcvhswbsbqfrfhvzwjvdmhzsgbmbmfnbpclqdwhvrlpppszptjvwtvdmfltfqqgjttdggcvllblnnhjqnjzhvpgpzzpzwbpjqbthnjjlmsjgjzqwnjlqrcdmmvsldtcrzqdrcmwqhnhfghdlmzwcspgmlpzhbdsmlwlqnhhvcvdfzmvfwpbfmjtdllprfqzzjpbrshdzgspsrlrwrhdpmznzzqngwrzqpmtwgbsswrnnnfctjhbcftnslsqwjvmfwfdvfqcnsvfsvgstgbzpmljjtlvtnfsdzpvcgbjqwgbgzqbjfgltqvnhffflsbjzfqfrfbssrvvwqvqptmhrbgllqjwptrzgvqgccsrvbgtvmzfzlmtqrgfwhzddsptclbhjlwqfntvjqdvcddnffmbtqrnsvtmlvljcqdsrpggcmqvmmlzwwbgznhblwzjdppvtqzjvcmtfzhdzjplrdbrfrgzpldvnsgqlbwbmfvrbgwzmjmmqdfgwtbgtzmdqnvqbwvcfjhddqvnjtjlhhjnltbtqqvblwlmglrqcrcfjvdntrnqzzbmrjqglmrdcjgnshcghtprjqqsdrmgdnzmzcfqqdtjtrqgtqtgrpmmgzjtcrznmqccjbdpbvrnnbmbzvgdcnrczbctbrsrrqrjnfcdpzlnngwvcdtbbgssvhpptntqdzhcqtlpvzjbfgzggrgrcgtdfjbwdcrpztnfcdbscnlmqmwcbmtnddgbmhwsgvcfdcmhlsvtnqtmrnsjzhppgwvzlmhwwmpfjzrfbhsgntzrdhwswrnfmmmczqrvdrqnhgrvqbdddhglwsftsljvgbnjqfwfzsspdqvgsnlgfsfpvdrjhzcldtrmjjrmdhvvfrjldhhtqnvsvlldjpjbpwstfsmrpmbqbnnpvqtbgjvblthbmwqtfcfgnjscvtbvlqcmlhffpzgjzfscsqwnhrjhvbrrzwqvbjwtwhtqsdbssfgncppnsfgfltdcbjqjzqqtprsbvjzhmchnltvmbsvpvhgzhfhbrnttsqbcmwpdnwqqgdrjrdwdhtzwsmcdffqgsddvbzfjhtfhtnfdbfrwmdtcqshfjrcpswzcptgwgmctpmzjdbqlmqwthmnfplmctpsslcsdtqpqhjtmjdnmnqnjgchwstsmtpvsmgpsbfgwqnzhrdgdvcdlcldfcmjvsdldgbmhltjhczffwmzqssnhfnwftfgpshntjbpjdffjpcmcpwhclrrwqcqzmntjglzgcfrplfpvprtpvpjdlcrfwrtrzdzmhsrsmdcpqqrqgvfpdbmzbzqdfhpplmgfrdghclbclgswvwhhdvcpmpzflpffmptcrwglftztccrpbrvmpnqmqdgjgrrlbtqtvgcjpljttwtdslqjqlsdpblgrqbrtbmtblfbqtbvsqhpqzpqfhjqpmjrmcvqmsbbpjpdncgnjftclbltwszrrfzqbjcdtphcvpmbhppvwjwlprgmghrjzzgnvzlvghnjbzqjpdgzfsnjchpbzqdzpsjmsrvvqwjcpwznlpbjldlrdfqtrzhqzcnpjqbbbf'"
     },
     "execution_count": 5,
     "metadata": {},
     "output_type": "execute_result"
    }
   ],
   "source": [
    "data"
   ],
   "metadata": {
    "collapsed": false,
    "pycharm": {
     "name": "#%%\n"
    }
   }
  },
  {
   "cell_type": "code",
   "execution_count": 8,
   "outputs": [],
   "source": [
    "letters = list(data)"
   ],
   "metadata": {
    "collapsed": false,
    "pycharm": {
     "name": "#%%\n"
    }
   }
  },
  {
   "cell_type": "code",
   "execution_count": 9,
   "outputs": [
    {
     "data": {
      "text/plain": "['w',\n 'z',\n 's',\n 's',\n 'p',\n 'b',\n 's',\n 's',\n 'b',\n 'h',\n 's',\n 'h',\n 'c',\n 'h',\n 'm',\n 'm',\n 'r',\n 'm',\n 'p',\n 'r',\n 'm',\n 'r',\n 'f',\n 'r',\n 's',\n 'f',\n 'r',\n 'r',\n 'j',\n 'h',\n 'j',\n 'p',\n 'h',\n 'j',\n 'j',\n 't',\n 'p',\n 'p',\n 'b',\n 'f',\n 'f',\n 'l',\n 'q',\n 'f',\n 'q',\n 'p',\n 'p',\n 'd',\n 'h',\n 'd',\n 'b',\n 'h',\n 'd',\n 'h',\n 'b',\n 'b',\n 'j',\n 'g',\n 'g',\n 'h',\n 'g',\n 'z',\n 'g',\n 's',\n 'g',\n 'f',\n 's',\n 'f',\n 'h',\n 'f',\n 'h',\n 'v',\n 'v',\n 'w',\n 'c',\n 'w',\n 'h',\n 'w',\n 'w',\n 'n',\n 'p',\n 'p',\n 's',\n 'b',\n 's',\n 'g',\n 'g',\n 'q',\n 'n',\n 'n',\n 'v',\n 'v',\n 't',\n 'f',\n 'f',\n 'p',\n 's',\n 's',\n 'j',\n 'f',\n 'j',\n 'n',\n 'n',\n 'l',\n 't',\n 'n',\n 't',\n 'd',\n 't',\n 'd',\n 'd',\n 'd',\n 'p',\n 't',\n 'p',\n 'r',\n 'p',\n 'p',\n 'j',\n 'm',\n 'm',\n 'q',\n 's',\n 's',\n 'r',\n 'l',\n 'r',\n 'p',\n 'l',\n 'l',\n 'l',\n 'f',\n 'r',\n 'r',\n 'z',\n 'g',\n 'g',\n 'b',\n 'm',\n 'm',\n 'l',\n 'm',\n 'n',\n 'm',\n 't',\n 'n',\n 'n',\n 'z',\n 'd',\n 'd',\n 'f',\n 'd',\n 'g',\n 'f',\n 'd',\n 'f',\n 's',\n 's',\n 't',\n 'b',\n 's',\n 't',\n 'b',\n 'b',\n 'z',\n 'c',\n 'b',\n 'b',\n 'c',\n 'j',\n 'c',\n 'v',\n 'v',\n 'f',\n 'w',\n 'w',\n 'w',\n 'z',\n 'l',\n 'z',\n 's',\n 's',\n 'g',\n 'l',\n 's',\n 'g',\n 'l',\n 'l',\n 'n',\n 'b',\n 'n',\n 'm',\n 'b',\n 'n',\n 'm',\n 'b',\n 'b',\n 'g',\n 'm',\n 'm',\n 'p',\n 'p',\n 'm',\n 'w',\n 'w',\n 's',\n 'r',\n 'r',\n 'z',\n 'q',\n 'q',\n 'v',\n 'g',\n 'q',\n 'g',\n 'n',\n 'q',\n 'n',\n 'm',\n 'm',\n 's',\n 'w',\n 'w',\n 'r',\n 'n',\n 'n',\n 'b',\n 's',\n 'n',\n 'n',\n 'b',\n 'd',\n 'b',\n 'w',\n 'w',\n 'q',\n 'n',\n 'w',\n 'q',\n 'n',\n 'w',\n 'w',\n 'z',\n 'z',\n 'q',\n 'w',\n 'z',\n 'q',\n 'z',\n 'j',\n 'q',\n 'q',\n 'w',\n 'b',\n 'q',\n 'b',\n 'c',\n 'c',\n 'j',\n 'c',\n 'w',\n 'w',\n 'j',\n 'l',\n 'w',\n 'j',\n 'w',\n 'p',\n 'p',\n 'q',\n 'f',\n 'q',\n 'j',\n 'f',\n 'f',\n 'w',\n 'd',\n 'd',\n 'r',\n 'z',\n 'r',\n 'j',\n 'z',\n 'r',\n 'j',\n 'z',\n 'z',\n 'z',\n 'h',\n 'c',\n 'h',\n 'j',\n 'j',\n 'l',\n 'q',\n 'q',\n 'r',\n 'g',\n 'g',\n 'z',\n 'v',\n 'v',\n 'n',\n 'l',\n 'v',\n 'n',\n 'v',\n 'j',\n 'v',\n 'h',\n 'v',\n 'n',\n 'v',\n 'j',\n 'v',\n 'b',\n 'b',\n 'v',\n 'd',\n 'v',\n 'l',\n 'd',\n 'l',\n 'd',\n 'b',\n 'b',\n 'w',\n 'd',\n 'd',\n 't',\n 's',\n 's',\n 'c',\n 'b',\n 'b',\n 'h',\n 'c',\n 'c',\n 'm',\n 'b',\n 'm',\n 'b',\n 'p',\n 'p',\n 'b',\n 'm',\n 'm',\n 'g',\n 'j',\n 'g',\n 'g',\n 'c',\n 'j',\n 'j',\n 'l',\n 'r',\n 'r',\n 'w',\n 'j',\n 'w',\n 't',\n 'j',\n 'w',\n 'w',\n 'm',\n 'f',\n 'f',\n 'g',\n 'd',\n 'd',\n 'w',\n 'v',\n 'd',\n 'v',\n 'b',\n 'd',\n 'b',\n 'v',\n 'v',\n 'h',\n 'c',\n 'h',\n 'm',\n 'h',\n 'm',\n 'd',\n 'm',\n 'w',\n 'w',\n 'b',\n 'j',\n 'b',\n 'j',\n 'c',\n 'b',\n 'b',\n 'c',\n 'm',\n 'b',\n 'm',\n 'm',\n 's',\n 'l',\n 'm',\n 'l',\n 's',\n 'l',\n 's',\n 'j',\n 'j',\n 'r',\n 'n',\n 'r',\n 'j',\n 'r',\n 'j',\n 'p',\n 'j',\n 'c',\n 'j',\n 'g',\n 'c',\n 'j',\n 'c',\n 'j',\n 'b',\n 'b',\n 'w',\n 's',\n 'b',\n 's',\n 'b',\n 'f',\n 's',\n 's',\n 'j',\n 'z',\n 's',\n 'j',\n 's',\n 'g',\n 'g',\n 'c',\n 'm',\n 'c',\n 's',\n 's',\n 'w',\n 'g',\n 's',\n 's',\n 'b',\n 'b',\n 'q',\n 'p',\n 'b',\n 'q',\n 'q',\n 'd',\n 's',\n 'd',\n 'q',\n 'q',\n 'z',\n 't',\n 'z',\n 'm',\n 'z',\n 'p',\n 'm',\n 'p',\n 'b',\n 'm',\n 'b',\n 'v',\n 'b',\n 'j',\n 'j',\n 't',\n 'r',\n 'j',\n 't',\n 't',\n 'h',\n 'w',\n 'h',\n 'b',\n 'h',\n 'n',\n 'b',\n 'h',\n 'n',\n 'b',\n 'n',\n 's',\n 's',\n 'v',\n 'p',\n 'v',\n 's',\n 'p',\n 'p',\n 'g',\n 'r',\n 'r',\n 'c',\n 'w',\n 'r',\n 'r',\n 'm',\n 'q',\n 'q',\n 'h',\n 'p',\n 'p',\n 'h',\n 'r',\n 'p',\n 'p',\n 'h',\n 'c',\n 'h',\n 'v',\n 'h',\n 'p',\n 'h',\n 'q',\n 'h',\n 'b',\n 'q',\n 'b',\n 't',\n 't',\n 't',\n 'l',\n 'l',\n 's',\n 'r',\n 'l',\n 's',\n 'r',\n 's',\n 'h',\n 'r',\n 'r',\n 'm',\n 'h',\n 'm',\n 'v',\n 'v',\n 'r',\n 'm',\n 'r',\n 'n',\n 'n',\n 'g',\n 'b',\n 'g',\n 'n',\n 'b',\n 'n',\n 'p',\n 'b',\n 'p',\n 'r',\n 'r',\n 'r',\n 'f',\n 't',\n 'f',\n 'j',\n 't',\n 'j',\n 'w',\n 'w',\n 'm',\n 'r',\n 'm',\n 'v',\n 'm',\n 'c',\n 'm',\n 'v',\n 'm',\n 'r',\n 'm',\n 'w',\n 'm',\n 's',\n 's',\n 'r',\n 'c',\n 'c',\n 'f',\n 'b',\n 'b',\n 'h',\n 'p',\n 'p',\n 'j',\n 'b',\n 'p',\n 'b',\n 'w',\n 'b',\n 'q',\n 'w',\n 'b',\n 'q',\n 'b',\n 'z',\n 'z',\n 'f',\n 'm',\n 'z',\n 'm',\n 't',\n 't',\n 't',\n 'j',\n 'b',\n 'b',\n 'v',\n 'c',\n 'v',\n 'p',\n 'p',\n 'm',\n 'w',\n 'w',\n 'r',\n 'b',\n 'b',\n 'z',\n 's',\n 'b',\n 'z',\n 'b',\n 'f',\n 'z',\n 'f',\n 'd',\n 'z',\n 'z',\n 'h',\n 'r',\n 'h',\n 'z',\n 'h',\n 'v',\n 'v',\n 's',\n 'q',\n 'v',\n 's',\n 'q',\n 's',\n 'n',\n 's',\n 'l',\n 'l',\n 'j',\n 'w',\n 'l',\n 'l',\n 'q',\n 'l',\n 'w',\n 'l',\n 'l',\n 'v',\n 'c',\n 'c',\n 'n',\n 't',\n 't',\n 'z',\n 'h',\n 't',\n 'z',\n 'z',\n 'p',\n 's',\n 'p',\n 'q',\n 's',\n 'p',\n 'q',\n 's',\n 'q',\n 'g',\n 's',\n 's',\n 's',\n 'v',\n 'n',\n 's',\n 'v',\n 's',\n 'h',\n 'v',\n 's',\n 'v',\n 'q',\n 'v',\n 'n',\n 'v',\n 'l',\n 'l',\n 'd',\n 'b',\n 'b',\n 'f',\n 'd',\n 'f',\n 'm',\n 'm',\n 'p',\n 'b',\n 'p',\n 'g',\n 'p',\n 'h',\n 'h',\n 'p',\n 'q',\n 'h',\n 'p',\n 'p',\n 'p',\n 'c',\n 'h',\n 'h',\n 'b',\n 'f',\n 'b',\n 'r',\n 'f',\n 'r',\n 'l',\n 'l',\n 'n',\n 't',\n 'n',\n 'z',\n 'n',\n 'r',\n 'r',\n 'h',\n 'd',\n 'r',\n 'd',\n 'h',\n 'h',\n 'd',\n 'h',\n 'j',\n 'j',\n 'g',\n 'w',\n 'w',\n 'q',\n 'h',\n 'h',\n 'f',\n 's',\n 's',\n 'j',\n 'b',\n 'j',\n 'w',\n 'j',\n 'q',\n 'q',\n 'b',\n 'f',\n 'f',\n 'v',\n 'v',\n 'c',\n 'r',\n 'c',\n 'h',\n 'c',\n 'c',\n 'w',\n 'm',\n 'c',\n 'w',\n 'c',\n 'l',\n 'l',\n 'l',\n 'j',\n 't',\n 'j',\n 'r',\n 'r',\n 'q',\n 'g',\n 'r',\n 'r',\n 'd',\n 'c',\n 'r',\n 'd',\n 'd',\n 'v',\n 'f',\n 'v',\n 'w',\n 'v',\n 'z',\n 'z',\n 'j',\n 'q',\n 'q',\n 'c',\n 'f',\n 'f',\n 'g',\n 'j',\n 'g',\n 'z',\n 'z',\n 'd',\n 'h',\n 'd',\n 'w',\n 'd',\n 's',\n 's',\n 'f',\n 'f',\n 'j',\n 'j',\n 'h',\n 'c',\n 'c',\n 'g',\n 'g',\n 'm',\n 't',\n 'm',\n 'l',\n 't',\n 'l',\n 'h',\n 't',\n 't',\n 'h',\n 'z',\n 'h',\n 'v',\n 'h',\n 'l',\n 'v',\n 'l',\n 'd',\n 'd',\n 's',\n 'f',\n 's',\n 'b',\n 'b',\n 't',\n 'j',\n 'b',\n 'j',\n 'c',\n 'b',\n 'j',\n 'c',\n 'j',\n 'z',\n 'c',\n 'j',\n 'j',\n 'p',\n 'f',\n 'j',\n 'f',\n 'z',\n 'z',\n 'p',\n 'n',\n 'n',\n 'b',\n 't',\n 'b',\n 'q',\n 't',\n 'b',\n 'q',\n 't',\n 'q',\n 'p',\n 't',\n 'p',\n 'n',\n 'p',\n 'l',\n 'l',\n 'l',\n 'b',\n 'z',\n 'b',\n 'l',\n 'l',\n 'h',\n 'b',\n 'l',\n 'l',\n 'n',\n 'q',\n 'n',\n 't',\n 't',\n 'p',\n 'd',\n 'd',\n 'q',\n 'v',\n 'd',\n 'q',\n 'v',\n 'q',\n 'm',\n 'm',\n 'j',\n 'n',\n 'j',\n 'g',\n 'g',\n 'n',\n 'n',\n 'n',\n 'h',\n 'q',\n 'q',\n 'f',\n 'c',\n 'q',\n 'c',\n 'f',\n 'f',\n 'q',\n 'p',\n 'p',\n 'd',\n 'g',\n 'p',\n 'd',\n 'd',\n 'v',\n 'q',\n 'd',\n 'd',\n 'm',\n 'h',\n 'm',\n 'r',\n 'h',\n 'r',\n 't',\n 'r',\n 'm',\n 'r',\n 'z',\n 'm',\n 'z',\n 'h',\n 'z',\n 'p',\n 'z',\n 'l',\n 'z',\n 'q',\n 'l',\n 'q',\n 'p',\n 'q',\n 'h',\n 'p',\n 'h',\n 'r',\n 'p',\n 'p',\n 'p',\n 'j',\n 'q',\n 'q',\n 'p',\n 'p',\n 'z',\n 'b',\n 'z',\n 'm',\n 'm',\n 'j',\n ...]"
     },
     "execution_count": 9,
     "metadata": {},
     "output_type": "execute_result"
    }
   ],
   "source": [
    "letters"
   ],
   "metadata": {
    "collapsed": false,
    "pycharm": {
     "name": "#%%\n"
    }
   }
  },
  {
   "cell_type": "code",
   "execution_count": 10,
   "outputs": [
    {
     "data": {
      "text/plain": "(4095, 4095)"
     },
     "execution_count": 10,
     "metadata": {},
     "output_type": "execute_result"
    }
   ],
   "source": [
    "len(letters), len(data)"
   ],
   "metadata": {
    "collapsed": false,
    "pycharm": {
     "name": "#%%\n"
    }
   }
  },
  {
   "cell_type": "code",
   "execution_count": 11,
   "outputs": [
    {
     "data": {
      "text/plain": "1023.75"
     },
     "execution_count": 11,
     "metadata": {},
     "output_type": "execute_result"
    }
   ],
   "source": [
    "\n",
    "4095  /4"
   ],
   "metadata": {
    "collapsed": false,
    "pycharm": {
     "name": "#%%\n"
    }
   }
  },
  {
   "cell_type": "markdown",
   "source": [
    "# PART 1"
   ],
   "metadata": {
    "collapsed": false,
    "pycharm": {
     "name": "#%% md\n"
    }
   }
  },
  {
   "cell_type": "code",
   "execution_count": 23,
   "outputs": [
    {
     "data": {
      "text/plain": "1142"
     },
     "execution_count": 23,
     "metadata": {},
     "output_type": "execute_result"
    }
   ],
   "source": [
    "\n",
    "count = 0\n",
    "for i in data:\n",
    "    count +=1\n",
    "    index = count\n",
    "    array = []\n",
    "    for i in range(4):\n",
    "        array.append(data[index + i])\n",
    "\n",
    "    if(len(set(array)) == 4):\n",
    "        break\n",
    "\n",
    "count + 4"
   ],
   "metadata": {
    "collapsed": false,
    "pycharm": {
     "name": "#%%\n"
    }
   }
  },
  {
   "cell_type": "markdown",
   "source": [
    "# PART 2"
   ],
   "metadata": {
    "collapsed": false,
    "pycharm": {
     "name": "#%% md\n"
    }
   }
  },
  {
   "cell_type": "code",
   "execution_count": 22,
   "outputs": [
    {
     "data": {
      "text/plain": "2803"
     },
     "execution_count": 22,
     "metadata": {},
     "output_type": "execute_result"
    }
   ],
   "source": [
    "count = 0\n",
    "for i in data:\n",
    "    count +=1\n",
    "    index = count\n",
    "    array = []\n",
    "    for i in range(14):\n",
    "        array.append(data[index + i])\n",
    "\n",
    "    if(len(set(array)) == 14):\n",
    "        break\n",
    "\n",
    "count + 14"
   ],
   "metadata": {
    "collapsed": false,
    "pycharm": {
     "name": "#%%\n"
    }
   }
  },
  {
   "cell_type": "code",
   "execution_count": null,
   "outputs": [],
   "source": [],
   "metadata": {
    "collapsed": false,
    "pycharm": {
     "name": "#%%\n"
    }
   }
  }
 ],
 "metadata": {
  "kernelspec": {
   "display_name": "Python 3",
   "language": "python",
   "name": "python3"
  },
  "language_info": {
   "codemirror_mode": {
    "name": "ipython",
    "version": 2
   },
   "file_extension": ".py",
   "mimetype": "text/x-python",
   "name": "python",
   "nbconvert_exporter": "python",
   "pygments_lexer": "ipython2",
   "version": "2.7.6"
  }
 },
 "nbformat": 4,
 "nbformat_minor": 0
}