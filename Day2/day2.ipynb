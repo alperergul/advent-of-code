{
 "cells": [
  {
   "cell_type": "code",
   "execution_count": 21,
   "metadata": {},
   "outputs": [
    {
     "data": {
      "text/plain": [
       "2500"
      ]
     },
     "execution_count": 21,
     "metadata": {},
     "output_type": "execute_result"
    }
   ],
   "source": [
    "with open(\"day2_data.txt\", \"r\") as file:\n",
    "    data = file.readlines()\n",
    "len(data)"
   ]
  },
  {
   "cell_type": "code",
   "execution_count": 22,
   "metadata": {},
   "outputs": [],
   "source": [
    "def calcStatusPoint(other_elf, me):\n",
    "    statusPoint = 0\n",
    "    if ( me == 'X'):\n",
    "        statusPoint += 1\n",
    "        if(other_elf == 'C'):\n",
    "            statusPoint += 6\n",
    "        elif (other_elf == 'A'):\n",
    "            statusPoint += 3\n",
    "        else:\n",
    "            statusPoint +=0\n",
    "    elif (me == 'Y'):\n",
    "        statusPoint += 2\n",
    "        if ( other_elf == 'A'):\n",
    "            statusPoint += 6\n",
    "        elif (other_elf == 'B'):\n",
    "            statusPoint += 3\n",
    "        else:\n",
    "            statusPoint += 0\n",
    "    elif (me == 'Z'):\n",
    "        statusPoint +=3\n",
    "        if (other_elf == 'B'):\n",
    "            statusPoint += 6\n",
    "        elif( other_elf == 'C'):\n",
    "            statusPoint +=3\n",
    "        else:\n",
    "            statusPoint += 0\n",
    "    return statusPoint\n",
    "    "
   ]
  },
  {
   "cell_type": "code",
   "execution_count": 23,
   "metadata": {},
   "outputs": [],
   "source": [
    "points = [];\n",
    "for i in data:\n",
    "    turns = i.strip().split(' ')\n",
    "    other_elf = turns[0]\n",
    "    me = turns[1]\n",
    "    status_point = calcStatusPoint(other_elf, me)\n",
    "    points.append(status_point)\n"
   ]
  },
  {
   "cell_type": "code",
   "execution_count": 28,
   "metadata": {},
   "outputs": [
    {
     "data": {
      "text/plain": [
       "11449"
      ]
     },
     "execution_count": 28,
     "metadata": {},
     "output_type": "execute_result"
    }
   ],
   "source": [
    "# PART 1 RESULT\n",
    "sum(points)"
   ]
  },
  {
   "cell_type": "code",
   "execution_count": 29,
   "metadata": {},
   "outputs": [
    {
     "data": {
      "text/plain": [
       "2500"
      ]
     },
     "execution_count": 29,
     "metadata": {},
     "output_type": "execute_result"
    }
   ],
   "source": [
    "len(data)"
   ]
  },
  {
   "cell_type": "code",
   "execution_count": 34,
   "metadata": {},
   "outputs": [],
   "source": [
    "def point_second_column(other_elf, status):\n",
    "    status_point = 0;\n",
    "    if( status == 'X' ):\n",
    "        status_point += 0\n",
    "        if ( other_elf == 'A'):\n",
    "            status_point += 3\n",
    "        elif (other_elf == 'B'):\n",
    "            status_point += 1\n",
    "        else:\n",
    "            status_point += 2\n",
    "    elif (status == 'Y'):\n",
    "        status_point += 3\n",
    "        if(other_elf == 'A'):\n",
    "            status_point +=1\n",
    "        elif(other_elf == 'B'):\n",
    "            status_point += 2\n",
    "        else:\n",
    "            status_point += 3\n",
    "    elif (status == 'Z'):\n",
    "        status_point += 6\n",
    "        if(other_elf == 'A'):\n",
    "            status_point +=2\n",
    "        elif(other_elf == 'B'):\n",
    "            status_point +=3\n",
    "        else:\n",
    "            status_point += 1\n",
    "    return status_point\n",
    "\n",
    "\n"
   ]
  },
  {
   "cell_type": "code",
   "execution_count": 35,
   "metadata": {},
   "outputs": [],
   "source": [
    "points = [];\n",
    "for i in data:\n",
    "    turns = i.strip().split(' ')\n",
    "    other_elf = turns[0]\n",
    "    status = turns[1]\n",
    "    status_point = point_second_column(other_elf, status)\n",
    "    points.append(status_point)\n"
   ]
  },
  {
   "cell_type": "code",
   "execution_count": 39,
   "metadata": {},
   "outputs": [
    {
     "data": {
      "text/plain": [
       "13187"
      ]
     },
     "execution_count": 39,
     "metadata": {},
     "output_type": "execute_result"
    }
   ],
   "source": [
    "# PART 2 RESULT\n",
    "sum(points)"
   ]
  },
  {
   "cell_type": "code",
   "execution_count": null,
   "metadata": {},
   "outputs": [],
   "source": []
  },
  {
   "cell_type": "code",
   "execution_count": null,
   "metadata": {},
   "outputs": [],
   "source": []
  }
 ],
 "metadata": {
  "kernelspec": {
   "display_name": "Python 3.9.12 ('base')",
   "language": "python",
   "name": "python3"
  },
  "language_info": {
   "codemirror_mode": {
    "name": "ipython",
    "version": 3
   },
   "file_extension": ".py",
   "mimetype": "text/x-python",
   "name": "python",
   "nbconvert_exporter": "python",
   "pygments_lexer": "ipython3",
   "version": "3.9.12"
  },
  "orig_nbformat": 4,
  "vscode": {
   "interpreter": {
    "hash": "68c2a598aeb7a5453385b31db816aca13b02730df7c59dafc526f0b7d57c21dd"
   }
  }
 },
 "nbformat": 4,
 "nbformat_minor": 2
}
