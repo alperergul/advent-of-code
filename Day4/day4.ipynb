{
 "cells": [
  {
   "cell_type": "code",
   "execution_count": 6,
   "metadata": {},
   "outputs": [],
   "source": [
    "with open(\"day4_data.txt\", \"r\") as file:\n",
    "    data = file.readlines()\n",
    "data_updated = []\n",
    "for i in data:\n",
    "    data_updated.append(i.strip(\"\\n\"))\n"
   ]
  },
  {
   "cell_type": "code",
   "execution_count": 7,
   "metadata": {},
   "outputs": [
    {
     "data": {
      "text/plain": [
       "1000"
      ]
     },
     "execution_count": 7,
     "metadata": {},
     "output_type": "execute_result"
    }
   ],
   "source": [
    "len(data_updated)"
   ]
  },
  {
   "cell_type": "code",
   "execution_count": 18,
   "metadata": {},
   "outputs": [],
   "source": [
    "def create_array(first, second):\n",
    "    first_array = []\n",
    "    second_array = []\n",
    "    first_start = 0;\n",
    "    first_end = 0\n",
    "    second_start = 0\n",
    "    second_end = 0\n",
    "\n",
    "    first_start = first.split('-')[0]\n",
    "    first_end = first.split('-')[1]\n",
    "\n",
    "    second_start = second.split('-')[0]\n",
    "    second_end = second.split('-')[1]\n",
    "    \n",
    "    for i in range(int(first_start), int(first_end)+1):\n",
    "        first_array.append(i)\n",
    "\n",
    "    for i in range(int(second_start), int(second_end)+1):\n",
    "        second_array.append(i)\n",
    "    \n",
    "    return [first_array, second_array]"
   ]
  },
  {
   "cell_type": "code",
   "execution_count": 31,
   "metadata": {},
   "outputs": [],
   "source": [
    "created_array = []\n",
    "for i in data_updated:\n",
    "    splited = i.split(',')\n",
    "    created_array.append(create_array(splited[0], splited[1]))\n",
    "\n"
   ]
  },
  {
   "cell_type": "code",
   "execution_count": 32,
   "metadata": {},
   "outputs": [
    {
     "data": {
      "text/plain": [
       "1000"
      ]
     },
     "execution_count": 32,
     "metadata": {},
     "output_type": "execute_result"
    }
   ],
   "source": [
    "len(created_array)"
   ]
  },
  {
   "cell_type": "code",
   "execution_count": 71,
   "metadata": {},
   "outputs": [],
   "source": [
    "## PART 1\n",
    "def check_contain(item):\n",
    "    first_array = item[0]\n",
    "    second_array = item[1]\n",
    "    count = 0\n",
    "\n",
    "    if len(first_array) >= len(second_array):\n",
    "        for i in second_array:\n",
    "            if(i in first_array):\n",
    "                count += 1\n",
    "            else:\n",
    "                return False\n",
    "        if count == len(second_array): return True\n",
    "    else:\n",
    "        for i in first_array:\n",
    "            if (i in second_array):\n",
    "                count +=1\n",
    "            else:\n",
    "                return False\n",
    "        if count == len(first_array): return True\n",
    "\n"
   ]
  },
  {
   "cell_type": "code",
   "execution_count": 72,
   "metadata": {},
   "outputs": [],
   "source": [
    "bool_array = []\n",
    "for i in created_array:\n",
    "    bool_array.append(check_contain(i));"
   ]
  },
  {
   "cell_type": "code",
   "execution_count": 73,
   "metadata": {},
   "outputs": [
    {
     "data": {
      "text/plain": [
       "526"
      ]
     },
     "execution_count": 73,
     "metadata": {},
     "output_type": "execute_result"
    }
   ],
   "source": [
    "bool_array.count(True)"
   ]
  },
  {
   "cell_type": "code",
   "execution_count": 74,
   "metadata": {},
   "outputs": [],
   "source": [
    "## PART 2\n",
    "\n",
    "def overlap(item):\n",
    "    first_array = item[0]\n",
    "    second_array = item[1]\n",
    "    isHas = False\n",
    "\n",
    "    if len(first_array) >= len(second_array):\n",
    "        for i in second_array:\n",
    "            if i in first_array:\n",
    "                isHas = True\n",
    "    else:\n",
    "        for i in first_array:\n",
    "            if i in second_array:\n",
    "                isHas = True\n",
    "    return isHas\n",
    "\n"
   ]
  },
  {
   "cell_type": "code",
   "execution_count": 75,
   "metadata": {},
   "outputs": [],
   "source": [
    "hasArray = []\n",
    "for i in created_array:\n",
    "    hasArray.append(overlap(i));"
   ]
  },
  {
   "cell_type": "code",
   "execution_count": 76,
   "metadata": {},
   "outputs": [
    {
     "data": {
      "text/plain": [
       "886"
      ]
     },
     "execution_count": 76,
     "metadata": {},
     "output_type": "execute_result"
    }
   ],
   "source": [
    "hasArray.count(True)"
   ]
  },
  {
   "cell_type": "code",
   "execution_count": null,
   "metadata": {},
   "outputs": [],
   "source": []
  }
 ],
 "metadata": {
  "kernelspec": {
   "display_name": "Python 3.10.8 64-bit (microsoft store)",
   "language": "python",
   "name": "python3"
  },
  "language_info": {
   "codemirror_mode": {
    "name": "ipython",
    "version": 3
   },
   "file_extension": ".py",
   "mimetype": "text/x-python",
   "name": "python",
   "nbconvert_exporter": "python",
   "pygments_lexer": "ipython3",
   "version": "3.10.8"
  },
  "orig_nbformat": 4,
  "vscode": {
   "interpreter": {
    "hash": "6a379587d22b9a356003d6e869dec3cc9098229b926b80c8786e0526e5774855"
   }
  }
 },
 "nbformat": 4,
 "nbformat_minor": 2
}
