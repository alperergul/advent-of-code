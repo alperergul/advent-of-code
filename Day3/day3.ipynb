{
 "cells": [
  {
   "cell_type": "code",
   "execution_count": 1,
   "metadata": {},
   "outputs": [
    {
     "data": {
      "text/plain": [
       "300"
      ]
     },
     "execution_count": 1,
     "metadata": {},
     "output_type": "execute_result"
    }
   ],
   "source": [
    "with open(\"day3_data.txt\", \"r\") as file:\n",
    "    data = file.readlines()\n",
    "len(data)"
   ]
  },
  {
   "cell_type": "code",
   "execution_count": 5,
   "metadata": {},
   "outputs": [
    {
     "data": {
      "text/plain": [
       "['a',\n",
       " 'b',\n",
       " 'c',\n",
       " 'd',\n",
       " 'e',\n",
       " 'f',\n",
       " 'g',\n",
       " 'h',\n",
       " 'i',\n",
       " 'j',\n",
       " 'k',\n",
       " 'l',\n",
       " 'm',\n",
       " 'n',\n",
       " 'o',\n",
       " 'p',\n",
       " 'q',\n",
       " 'r',\n",
       " 's',\n",
       " 't',\n",
       " 'u',\n",
       " 'v',\n",
       " 'w',\n",
       " 'x',\n",
       " 'y',\n",
       " 'z',\n",
       " 'A',\n",
       " 'B',\n",
       " 'C',\n",
       " 'D',\n",
       " 'E',\n",
       " 'F',\n",
       " 'G',\n",
       " 'H',\n",
       " 'I',\n",
       " 'J',\n",
       " 'K',\n",
       " 'L',\n",
       " 'M',\n",
       " 'N',\n",
       " 'O',\n",
       " 'P',\n",
       " 'Q',\n",
       " 'R',\n",
       " 'S',\n",
       " 'T',\n",
       " 'U',\n",
       " 'V',\n",
       " 'W',\n",
       " 'X',\n",
       " 'Y',\n",
       " 'Z']"
      ]
     },
     "execution_count": 5,
     "metadata": {},
     "output_type": "execute_result"
    }
   ],
   "source": [
    "import string\n",
    "alphabet = list(string.ascii_letters)\n",
    "alphabet"
   ]
  },
  {
   "cell_type": "code",
   "execution_count": 6,
   "metadata": {},
   "outputs": [
    {
     "data": {
      "text/plain": [
       "52"
      ]
     },
     "execution_count": 6,
     "metadata": {},
     "output_type": "execute_result"
    }
   ],
   "source": [
    "len(alphabet)"
   ]
  },
  {
   "cell_type": "code",
   "execution_count": 16,
   "metadata": {},
   "outputs": [
    {
     "data": {
      "text/plain": [
       "'QtGHnGlcwQGvHwMHGnnGfRFCJnRBfVVJRVBfCFBh'"
      ]
     },
     "execution_count": 16,
     "metadata": {},
     "output_type": "execute_result"
    }
   ],
   "source": [
    "data_new = []\n",
    "for i in data:\n",
    "    i = i.strip('\\n')\n",
    "    data_new.append(i)\n",
    "data_new[0]"
   ]
  },
  {
   "cell_type": "code",
   "execution_count": 17,
   "metadata": {},
   "outputs": [
    {
     "data": {
      "text/plain": [
       "(20, 20)"
      ]
     },
     "execution_count": 17,
     "metadata": {},
     "output_type": "execute_result"
    }
   ],
   "source": [
    "first_half  = data_new[0][:len(data_new[0])//2]\n",
    "second_half = data_new[0][len(data_new[0])//2:]\n",
    "len(first_half), len(second_half)"
   ]
  },
  {
   "cell_type": "code",
   "execution_count": 31,
   "metadata": {},
   "outputs": [],
   "source": [
    "def common_item(item):\n",
    "    first_half  = item[:len(item)//2]\n",
    "    second_half = item[len(item)//2:]\n",
    "    for i in first_half:\n",
    "        if( i in second_half):\n",
    "            return i\n"
   ]
  },
  {
   "cell_type": "code",
   "execution_count": 34,
   "metadata": {},
   "outputs": [
    {
     "data": {
      "text/plain": [
       "300"
      ]
     },
     "execution_count": 34,
     "metadata": {},
     "output_type": "execute_result"
    }
   ],
   "source": [
    "common_items = []\n",
    "for i in data_new:\n",
    "    item = common_item(i)\n",
    "    common_items.append(item)\n",
    "len(common_items)"
   ]
  },
  {
   "cell_type": "code",
   "execution_count": 38,
   "metadata": {},
   "outputs": [
    {
     "data": {
      "text/plain": [
       "52"
      ]
     },
     "execution_count": 38,
     "metadata": {},
     "output_type": "execute_result"
    }
   ],
   "source": [
    "point = alphabet.index('Z') +1\n",
    "point"
   ]
  },
  {
   "cell_type": "code",
   "execution_count": 40,
   "metadata": {},
   "outputs": [
    {
     "data": {
      "text/plain": [
       "8349"
      ]
     },
     "execution_count": 40,
     "metadata": {},
     "output_type": "execute_result"
    }
   ],
   "source": [
    "total_point = 0\n",
    "for i in common_items:\n",
    "    point = alphabet.index(i) + 1\n",
    "    total_point += point\n",
    "\n",
    "# PART 1 RESULT\n",
    "total_point"
   ]
  },
  {
   "cell_type": "code",
   "execution_count": 45,
   "metadata": {},
   "outputs": [
    {
     "name": "stdout",
     "output_type": "stream",
     "text": [
      "3\n",
      "6\n",
      "9\n",
      "12\n",
      "15\n",
      "18\n",
      "21\n",
      "24\n",
      "27\n",
      "30\n",
      "33\n",
      "36\n",
      "39\n",
      "42\n",
      "45\n",
      "48\n",
      "51\n",
      "54\n",
      "57\n",
      "60\n",
      "63\n",
      "66\n",
      "69\n",
      "72\n",
      "75\n",
      "78\n",
      "81\n",
      "84\n",
      "87\n",
      "90\n",
      "93\n",
      "96\n",
      "99\n",
      "102\n",
      "105\n",
      "108\n",
      "111\n",
      "114\n",
      "117\n",
      "120\n",
      "123\n",
      "126\n",
      "129\n",
      "132\n",
      "135\n",
      "138\n",
      "141\n",
      "144\n",
      "147\n",
      "150\n",
      "153\n",
      "156\n",
      "159\n",
      "162\n",
      "165\n",
      "168\n",
      "171\n",
      "174\n",
      "177\n",
      "180\n",
      "183\n",
      "186\n",
      "189\n",
      "192\n",
      "195\n",
      "198\n",
      "201\n",
      "204\n",
      "207\n",
      "210\n",
      "213\n",
      "216\n",
      "219\n",
      "222\n",
      "225\n",
      "228\n",
      "231\n",
      "234\n",
      "237\n",
      "240\n",
      "243\n",
      "246\n",
      "249\n",
      "252\n",
      "255\n",
      "258\n",
      "261\n",
      "264\n",
      "267\n",
      "270\n",
      "273\n",
      "276\n",
      "279\n",
      "282\n",
      "285\n",
      "288\n",
      "291\n",
      "294\n",
      "297\n"
     ]
    }
   ],
   "source": [
    "for i in range(3, len(data_new), 3):\n",
    "    print(i)"
   ]
  },
  {
   "cell_type": "code",
   "execution_count": 47,
   "metadata": {},
   "outputs": [
    {
     "data": {
      "text/plain": [
       "[['QtGHnGlcwQGvHwMHGnnGfRFCJnRBfVVJRVBfCFBh',\n",
       "  'qsDjzNWhmspNNqVrfjVfjJCbBVfB',\n",
       "  'DLhPTmNDTzTqzpmzLpswGMHtMgwglcPQMQvSGM'],\n",
       " ['ctwDjvgtltgglHrSHCsQWBBDfS',\n",
       "  'ZJZdVnmhmfCprnBTfS',\n",
       "  'dNddhhdPRRdbdNcvwCPCgCctjPlF'],\n",
       " ['MNNDGMWrQsfhtrTnrm',\n",
       "  'jcvRPRPJdvccRNFNCjLdcwJCSHtHPmzhsSzPHmfhnftnTffH',\n",
       "  'RddRcjRvZgZNWNgQQb'],\n",
       " ['fPrvhqhRPSfCCfhrqtbtLcmZmtHCtpCFcc',\n",
       "  'WFQJlTdzgGJVQGWQTzdJcHbQZtLtHmbbZMZHsZQm',\n",
       "  'JFNlzTBNJGlNPSRhfqRRrN'],\n",
       " ['tdVVgttdDtJJsNPmzdQmjcPP',\n",
       "  'CBTMmmmbTBHqHMwQcZPWWsWnzbbnzW',\n",
       "  'CGlLFCTMGvqBGvGvGSRSRfmtRRtgVgrSLS'],\n",
       " ['LHSGJLWZLqHQHpRHRz',\n",
       "  'bpBPVtpCwPgBCtqqvzfzMQvjbbjz',\n",
       "  'lhVsTgPlBNThpBNwBtVThPnrGGWJZnLZFnFrGWsFrWZr'],\n",
       " ['nQbbbjpnsdsGCSlmHtJmvljHMjWt',\n",
       "  'cDcgThLVcPTHVlVlHllvWp',\n",
       "  'cwpgghTcRRczDhnQGGCSdfszdSbS'],\n",
       " ['vTMFDNTlDhjTDNMNJDwmWWWfGPfLnnzLGfMmmL',\n",
       "  'bVQgbpqqtctzLflltnCz',\n",
       "  'VSqlVSHRFvNwJSDj'],\n",
       " ['RfZfjljffssWLWPTGPjhzT',\n",
       "  'FDCvMDMJJpBJpBFJCMBDMtPbWbLVPGztWPVTtPmLWGhQ',\n",
       "  'DpgHggpwBJwzJMrFFvrCrHsffnRScNsdclSnnRnSNs'],\n",
       " ['wTvfHSvSwssPGCLCPhgSCn',\n",
       "  'QNpMRqRJQMZlBBbRRRMfbZlBhPChghhlChGCtnthctjPhchh',\n",
       "  'rrrNBbMZqRbqDsFHTwfWTFFwrF'],\n",
       " ['fVgfQhhgfTLHSLNZZHfZ',\n",
       "  'CDtsqrqlDtqDddsqjsstHrSlNLWLcSZScFWWcNBFcBcc',\n",
       "  'jrCJrHjDCMMDsJjJMstThppgwvGzVGQzhJvvng'],\n",
       " ['DGlTlSzbSnzmwbmblTBBPgffpNjFHppZBH',\n",
       "  'WqQdWqqJdCrtvQtJLQjtdcBNfPsNZfHZZsHNNZHsBBHL',\n",
       "  'cCJcjdRvqrQhqvWMzlbDGVGbSMSnbR'],\n",
       " ['BfQmpfpmsRCRPDSZVSjjSg',\n",
       "  'MhNJGMTMHGGTbnGMJrbJHTzzdPgSwSqqPjPdZddSqNSwPZDw',\n",
       "  'TWbWbhnHWBFBFBDD'],\n",
       " ['FrlJbTcBTcrlTlqwZTwWdhWLChLtVhdfLhmwWC',\n",
       "  'pppSpzBGMMMjSSMSzMNzHRSDVWGWDWVCDtGdtdhLhftthd',\n",
       "  'RNNgpMPRNgzggFJcBPqFZJZrbc'],\n",
       " ['SdvnnvvntnbDDqtz',\n",
       "  'wRpFRRspZhgZgFggFMgtczcGGDzQcGlGDMqcDG',\n",
       "  'CLLCFNZhsppRvvttBPCjStdT'],\n",
       " ['JJDMhSwmMwBnnJPJmQcFtfQtfgQhQQfcgH',\n",
       "  'ZvCvTGqGVWTZZWptQggGtHfDgcpz',\n",
       "  'dsVCvDTZWWbZqqCZqVsqsqmNlPNnSJmbNNmlmMSnJLBl'],\n",
       " ['MGnMBMBJFpBcNpdwRWRvRNdblmwW',\n",
       "  'LSgtPCChgjCPgSSzCSqWLLbrdWlmwmwmFvml',\n",
       "  'QhHPVSHghCtQFgCzgQhVnDGMGffnpcZMcMfJDf'],\n",
       " ['QwrJqMLRLtBQRtWLJLvQLMrMgNNzPDngNHlHnbbbggHlgZNt',\n",
       "  'GdfThGcmShTGSfppmFfTHDNNblSZDbbzlBzZZHHg',\n",
       "  'TffmGBBFcCFFmTGFhBwjJQJMQWqWQCrrvQMR'],\n",
       " ['mRbrjZzRLchHqqdLDllh',\n",
       "  'mCGCsJSggCmgSGShlhhDVVVwhqSltV',\n",
       "  'PsfsGNGJvGPfspvcmrTRBrjTZzvT'],\n",
       " ['NRNqFFtqqFrDDQRcJJJNrWDswHwWwbDVTgTwLbVlVD',\n",
       "  'ZpdHHGPmgwTwldbw',\n",
       "  'HnnnMPMzChPmnpnmfFJCRqcJqJRRrrtSBc'],\n",
       " ['LnNNLBmTNBNTwNZZjZmRMHJwMHvbWrvPMMWdcP',\n",
       "  'GtSFDFpzsGVvMJdJsrMbvr',\n",
       "  'SqQQGGtqqSVtDpGtplVDpVJClmnhnTZNjNfmnmBChCZL'],\n",
       " ['CHltTDsjHNHHdpDRmqdPQpzd',\n",
       "  'fMMbbZwLJgMVVFmcRqRpzdqbRm',\n",
       "  'MJJWfnVhMzTNGlNTsh'],\n",
       " ['WtWbtWvrrQGrbcSWHHfSHfgdWJ',\n",
       "  'zpnPhLPhPnTMMnzMzpMnDzLPjTVjccSgdmjdvSJdHSgdjScj',\n",
       "  'qqvMMCnDCCCzqqCzhPlLsRsGtrsNlRbZtBRtbrrQ'],\n",
       " ['mPTmlGQnjNTPQQNljnlQnmmCtgRPhghqgqgzqLRPtMqqMzhq',\n",
       "  'pDsVSZcdVspbdBpcBHBcHhqLWzMbfhMMrMgMgzLRft',\n",
       "  'pFZpJJFSBFRllvlFNC'],\n",
       " ['pbMVjJbwbbLqlZlstRhjstsN',\n",
       "  'FSTnfCBcnBSBvSmmCFCCRQhZBZNsRGlsQQNsqZlG',\n",
       "  'dvcdfFcqmfcmdMdJgwJJHMbH'],\n",
       " ['QSRlWDhQQqDqlTCjTRCSljSmVsPmmGmzsgvppzPVVzdPSP',\n",
       "  'HHwtMNMZvfPGbdwdggwG',\n",
       "  'ZFcNMFFvHLMjlCWrqhqchh'],\n",
       " ['jccDSGVVlRLVSVVScWZZwLvbphgwdpLwZv',\n",
       "  'BQHBtfQQHBfmMtmFznrHzmDwghWphvZZFpDhZvgvpZhh',\n",
       "  'DmQrPQnBtTnzrrfHrtfMrmTCGqPNjSPCRRGjRCRRqCNjVN'],\n",
       " ['bRDbbtVgPFFbDfgVCtPcGsNNsHccqcGGWCNNzW',\n",
       "  'ZwlmJwwRSmlJdQRhqGNTqzGTwzqGhc',\n",
       "  'ZQdZjpljldrSMjmjdRLdmdbVvvtDVFFffvBFPVBgMnBg'],\n",
       " ['rzwGrwPGppqzPMzrdqsssSsvgtQgTTTJsH',\n",
       "  'LCNNHLmHWvCJstsJss',\n",
       "  'cfVLLNBmZBVMVDHGwrhM'],\n",
       " ['FCGFrJltMGdFdGtlFtCgFzQfQnZfVVVMDcQDVzVjfD',\n",
       "  'PSPSPZPRbPRsbBRbHBTPvfVzQcDQqWWnDjnnHDjzcz',\n",
       "  'RmSTPwSTRpvSlZglgZprZtNp'],\n",
       " ['njtLGLbcNTbbLnLmNTtqnFzVPwJFFzPVFPwMVmfMmV',\n",
       "  'srpZlSpsSVqgSPJJ',\n",
       "  'HZsHsrZhrBQpqQvpdprnTnnHTbGLbHnjHGbjbT'],\n",
       " ['vFFnJjvnVSjgCqSCDZ',\n",
       "  'lswrrcsQrHTHwdrDdhmqqsRhzmggghgsGC',\n",
       "  'QPrWQWcDNDHdddNrQPfDMLMLtvvMbnBpPFvpFFvL'],\n",
       " ['LgltlRMtcccgMdlzqTVwwrdsqm',\n",
       "  'FpvfSDNzSpnvGSnNpmsmVqVVrHwvTqVmmw',\n",
       "  'pGjDFFDpffnWQbnzjLJhhLchPPJMPBLt'],\n",
       " ['lJqBqPvtvVPnttnJjJBjVMzMrFhdQrQFbGbQnrbzGG',\n",
       "  'msRgTgmTLLmsTDRfQRllMdGzdRbMHQFF',\n",
       "  'msfDWglWTpSLCgTpSCDsfPjvjtwVjJZqqSSvPVZSqB'],\n",
       " ['VZZWGZGlZZZMZrGMlQBQGWltFzqvzzcVcgzvmgzddccgvqFc',\n",
       "  'rLjNrDRLDRLTqdCqFCNzFgqg',\n",
       "  'TJSSbHfDDfSnbpHpJnGhWPtrZWnPhBwWPWBt'],\n",
       " ['ssvsDDjNwhjNhGGgDDRZllltLCLvCWbMffLCfWzb',\n",
       "  'qVRmJFSQqqVcqSMWMWLMlllbtbVM',\n",
       "  'PqQBPcFJFcmdrJPJrFrQpsNjnTGgwTwGssRNRnRBsG'],\n",
       " ['sHsJJfSsrpBLHCLJmdqgdZgRNZQlgRNC',\n",
       "  'VtnFbhFhwjwVPPjhbccQDQqgRlWDQmdWZZDd',\n",
       "  'hFhFvbhGwzvFbtbPnttGbtjsLBfspSrMvJLrpJTrMsLZrH'],\n",
       " ['nzJDJvvZznnqnZrpTgTpzzTNjlmtsglBjjttQQCgCCtlBj',\n",
       "  'SRLRfdVfSVcfHdVVdSLdMHQjPtClsmcwNQltjwjCQQwm',\n",
       "  'RShVLWWfWWGvsTZz'],\n",
       " ['vcdptvndNzrndjctrvcnvtTdbwwRTgwbHDFDTWgqWlWqwqbl',\n",
       "  'ffVBmQPhshhfPmSfBPfChmmCWFWbDWFbWwwqRDbsgwWMbWFb',\n",
       "  'SJJCBLZBhfvnJnpGtvRc'],\n",
       " ['HLMMHHpNqWHqFqppPWnshtsLhBnVDtthLLms',\n",
       "  'JgmSRgCRGbgwGSbgJJjRRDntztrVhnsDrllllwhhzt',\n",
       "  'bRRCCjgRvJQQdcdjjvRcQdgbZPZpqfqpHHMfNFqNTPWqQWmq'],\n",
       " ['PPwQTlFrLqrLQrPfPJrHtcjtSvdCNNctLCjNdc',\n",
       "  'DGZMhmVRMGqVmVDnGMbBZhsjHNvjdstddjdjccSBSjds',\n",
       "  'mqzVnWDmmGzRhqRbbWQQFwPQQTlzPFpTlPJJ'],\n",
       " ['RMmnMrZMlQQpGrQt',\n",
       "  'gPPgcDBcjdgjBCBcQtNDNzzthltGphhz',\n",
       "  'FSvPSSjFWFScSWdjWvbTwWJQZQVRsMTQVwTmVR'],\n",
       " ['PwlbMTDQDvMwttThPthhvhvvZzNLzNZjQCNNLWLCRZWQRzNW',\n",
       "  'VpJHFpgfqdFqqHFGHVSdGmZZRnSsnLjNZCWmmszLSz',\n",
       "  'drrJRGJVrcMBDwhDbcMh'],\n",
       " ['hghHTgbwHbDqHrgbbbSLzzFNnsVqNVBnLnfs',\n",
       "  'jMlcMRRmGcRlZQMMJRJSPPmCFzBBzpfBfLfpFLszLNNFVCfz',\n",
       "  'JlmGlZmvRMgvrgbrrSTw'],\n",
       " ['ZtTTHpprHtQtHtpqPmjVSScjVSjjSNqw',\n",
       "  'nRvGWhRbnRGzvWCBGPjNdwcSwcnlJdmmSj',\n",
       "  'vCbsmbWfRsRWWzsMWBQFFrDZpgpFHLgQLMgQ'],\n",
       " ['QlJBfZssjgZsQsDNbScdDZdNcvvF',\n",
       "  'zrGrVVpVMWMwMVLMwqVWpRdNFSDcFNDFbSddqHldDdqd',\n",
       "  'VLVtrWpMRCRLWGWMRwVGCVPfCPJnBTQsJlmjsfsPBQjC'],\n",
       " ['GQqpnnFWFcnWpBMhhSZRhQCCCfRQRD',\n",
       "  'HsbcczlrjzflffLVfDlt',\n",
       "  'jssvwsHPsjzWdMcgBnvqMB'],\n",
       " ['JMJdMptTbbtpJZhtTMZwJdNWQBPNBlwNBNQWHBCHHPlg',\n",
       "  'rVqsvVmjrcCqCPsPNQgnsnQglW',\n",
       "  'rVvzfqvLjFVDVcLjCqLmJFGbpJpRJTGMtbRpdGRG'],\n",
       " ['LrmwdZHlSlcVlSrrDWCzbtpjpgzjtD',\n",
       "  'gBGgPTTBqPQTqnnPJhMTTCzzppnCvptpnCtzNpDntz',\n",
       "  'qQPTTPshRRQqcgsflHZcsSLV'],\n",
       " ['smvdTvlPzslmVjMhJlbjrblJ',\n",
       "  'cqFffFffcwFfpcDSjcnZwZWrQVDrQBhNbrrNBbWVbNhr',\n",
       "  'nSpRZRjpcHqpCpqnqFRGmvPLtLGmCdCsGLLdtC'],\n",
       " ['PJPLPPHDdPvdnbctfcpt', 'NRrGNjNzLjltppvpRSRS', 'LzVWLjTWGLQqBgZWJWBBFg'],\n",
       " ['znzccGnswWrWNCpvvdTCzddC',\n",
       "  'RfZlRDDDZflSBMhhhPSMMZpmpHHGNCGTmCJTmvmCvJGR',\n",
       "  'GbBMhhbSMhMffDMZPggSGfhVWLwjsLttWtrjWscVLWnQWswn'],\n",
       " ['jwRzdZZhwhwHSQqpStJHhp', 'GVGPBvNPvffpvtvp', 'nsGGDVtFNGgGWjWlTwrwTmjwTR'],\n",
       " ['MQtmmMMmnHGGTmhw',\n",
       "  'llqvqvvpqdvvrSfrpSfdfnhFSTMNDHFMNFFSGFwMHT',\n",
       "  'JqvvRgpCfrzCpqqzdfRpRllWZZBQJbVVtMttsVWJbjPbcc'],\n",
       " ['zgqBczqBbBGjdHVgdDFd',\n",
       "  'lNVhNNnLtZZZGWjdWrSW',\n",
       "  'PCQhNflCtCwtJwhClMmVcRmpbPqTcmBqpm'],\n",
       " ['wWbqbTwVrQLqlMtrZtZffNfMfP',\n",
       "  'vhjqqRpRvZsfssZN',\n",
       "  'ccBjJBqGpRhDGbJldHlgLwddLd'],\n",
       " ['hVScjtgcchVhSgZJSchVwLbNLWnLNwwnwrbWNLgr',\n",
       "  'BzMdBqzBQzZQPpfrsrbrNdNLsrRR',\n",
       "  'zPMzmmGpmzGlFQPPmlZPzSVTSVJJcSlcDhTlvSCtjJ'],\n",
       " ['hzdwlqngZQvDfmzF', 'vcRrcsVNpVQsFfBfPPQB', 'HCHVWVcCpNMHWRjLwhvhggdjvggM'],\n",
       " ['LBHCTPzHHBcClwppwjjNNl',\n",
       "  'JddZMRmmssVmvDvJddSJWVWBwpQvwfpwvwwfrrFNQfwjpl',\n",
       "  'BsVMVZDVZssZhMhJqLzhzzHzPTPnLGqb'],\n",
       " ['bcnNQnBTvvvWTQTJhdHJzhSjpJJjStjd',\n",
       "  'mMwqwVMMRwhBtjdSVBVl',\n",
       "  'GfsrwCRmZBcZTvBf'],\n",
       " ['bBjQmmmqWdLqvLbWLtNJccNZZgCBCZgCTg',\n",
       "  'phfpfzpHPDwfMwvVzlhlJJlggcZgZcRFFlCgZg',\n",
       "  'zfhpMMDpVVzzhHhzzMMwfnMfSmQmbQvvWqWjmLSqdQmrqjjn'],\n",
       " ['ZzdcbGTwLZwPPwpMPWpjWPpWChBC',\n",
       "  'nmznNRFHQrqQvqqmmMfWWWpMFjspWFMWjB',\n",
       "  'zqRDSmDrmvnvntGccGdcTVtLTlVG'],\n",
       " ['nfnVscTcDzsZqmRtjtsqjJ',\n",
       "  'wnnhWPWLBNwPLHdQdWdHPHLdJjqRRqrvjrmqFtvRqtQRqFjm',\n",
       "  'bWhHdBBLdLnShWHcTVzCfCpVDTblpT'],\n",
       " ['WSjVFSVTSWvgvFwpgTTFsfdVclhNCfsHnHlHsCfV',\n",
       "  'zRqLqZqZZQcdNltfHzsd',\n",
       "  'ZqBqGLLRcjWWBvTT'],\n",
       " ['wwBqgZfbgbZsvWmfJrtFrdDttqdFdLct',\n",
       "  'SNSSVTnnThnCSPPnzVztQJJQdLPtFcGLdFGDsD',\n",
       "  'lSlszRVsRjmmfjfRRf'],\n",
       " ['NGzGWSLzMdQtcctbgWjt',\n",
       "  'vqTnfVVHBffnCmHgMtrrrHrgtcrt',\n",
       "  'vqCDVlFnnCnnBSzlspSzLSNMLL'],\n",
       " ['rwVlfVMRSTqTgRhT',\n",
       "  'pppjLtpZjHFHNhsctSqDDVtnns',\n",
       "  'HNjJLFBFHZZzWbVBZGfwdGrMfCCfGvmzlM'],\n",
       " ['zFzztqWnJttqqzJtdqbtqbPVMGcGZwgPGVwGQjwCCggMZQ',\n",
       "  'hssLlrsSrBmBrZGSfgwgSwQCcj',\n",
       "  'BmBBDBHLrlNhLNHrpsDvLJNtddczdRzzcTqJzzdWnc'],\n",
       " ['pLWcpGSscLQPDzLBgdbmdZHBHmZB',\n",
       "  'lntfCfVMvtttqVqnZHHbbBZmwwwCdHhc',\n",
       "  'qqRJFfRFRNlTzSSWWzSJpc'],\n",
       " ['DrphDfFrdGGjTTgTgCSV',\n",
       "  'vbsMZPnPvqHMQvtZZPWBBVVBJjWSVTPjJC',\n",
       "  'nMbnsRSQvvLRMsssQhdFrcwczLlDrrDzhz'],\n",
       " ['LLlDQlcLDqLSlCDRlRDCqTTzzgNzShSBdZGBFBBgNG',\n",
       "  'nHnMwPPbrWwpmztdMtzFZZFtTN',\n",
       "  'PJfbZmHrpJfZDRLlDlLcVsVJ'],\n",
       " ['wZwQsrrzQFQSrRSFbzDglcdCcdljjdlljcvslLhv',\n",
       "  'VPqGJtqqfnJcCLFllFMGcd',\n",
       "  'fNHPJWpmHfffqJHmwzgbrBDZrDbFRQ'],\n",
       " ['HggtSJtzrgltshlTsrzbzsgbFddfffDZwZRZZZGfGDRTNNZZ',\n",
       "  'LnjWccmQBPWqmWPqMfFNdGBRCDFFSfDfRd',\n",
       "  'WpMjWpMcWSjqqPjQLmvmjMgllsbgbtvsrrtvJgJHhrHl'],\n",
       " ['PMcMcBpztMztzPPhbSgGSvgfHD',\n",
       "  'nsmsVQVZVQmTRmddrLgfFhfLgLDzgvffDhbF',\n",
       "  'dwsjrQQrVwTmZRTzsTdBcjqlqWpcCCppcllltC'],\n",
       " ['DbVjbjwNMDTCVbhbTNDrVTTmzFGLFLHcLHzmcWFczLHwmH',\n",
       "  'PPWsfBZngtZqZZnPgZnPqvmFmczgRHGmGSRRSSLGFF',\n",
       "  'sntBlWPdnspnnPQZtnNNNMjhMNrVMjMThjpr'],\n",
       " ['rCrCWVvvWDnBWvDnWDMCMZTpThhGGhGRGqGqZmhZqV',\n",
       "  'NNjQMzNzQjjwNmJNmZddpdTG',\n",
       "  'QwtwLPcjPtQlHSSslzwHSlPQDfDWsggsvvBvDvnvgngCnvFM'],\n",
       " ['ZDCbvbDvvHbCGTWpZTtWWQnn',\n",
       "  'hLqzLVhVwNwVfMnJrfqMzWrQddgmQQGdgpgQGmgjTj',\n",
       "  'wlVNwJJfVRLPRnHRbFHRsP'],\n",
       " ['lLmvLGRCrmDwVPVsjmtBBQmt',\n",
       "  'NSHWNbzSHWpSpfChqqJPnzBJsBPPJnQJ',\n",
       "  'pWcHbNfWpgZcWbhbZSgchWpRdCZMMdGDFFrLwlwMRRZFdd'],\n",
       " ['PnNrFVZQHNDrmNQPflbhbfqbvhwbVfvq',\n",
       "  'TCdTtpCtCWTBMtjTJMWtBMCLSfvbqqzqbljflwDLvLjLLf',\n",
       "  'MCCGcpCJRWTTMGmPnDFNQQnDns'],\n",
       " ['FhSmttZmgLjJVMlVGllGjcrj',\n",
       "  'NRNvNWNCdnNrBvWvwRdWvvvRCGcbVVQbMQGcGcVcMclzVVlG',\n",
       "  'qwBsBWwnvdtHJJSrtHsr'],\n",
       " ['wnwPrnBBPgqRPjhgCRGCLvvbRZcJvCbb',\n",
       "  'dWVdVdlMHtsTslMtzztFGGczvvGJzL',\n",
       "  'fMflHpddJfNNVfNWWmDqQpwBgwnjPBQDjqBh'],\n",
       " ['WttGctsNCNrfwTMlBtlr',\n",
       "  'HJLzLJJVnFjHbnbVjDHDdFqwwffTTfTGwrqwBBTT',\n",
       "  'jgVgJSbnHjNWsWCSWWGG'],\n",
       " ['ssLfHLvrrfMMlBMRMfpd',\n",
       "  'qbbhmGCCVDQhQQVzDDbqmhMBtDZdBZHlddpltpBpdlJd',\n",
       "  'QhQbzqCGzVzSbqzLHjLgrcjvPSnnSL'],\n",
       " ['NGGZGsGFCGvCcnCcgnZWrPHjsJjHjTDjJHfrjHDP',\n",
       "  'RzzQmwwmdRRwMqRQmZwtfrDPfTfrbjHqrDPTHr',\n",
       "  'MBLphmLpSzdRlnWZCNcGLgLG'],\n",
       " ['LwPPHZLLWRMWMsHqTCjmTTjSTn',\n",
       "  'lFpNNpzplbfphzNcQzVcpvzsnqTsggmnjfgqCDsnCDqsgS',\n",
       "  'vFJJhQVhbcVddLtmWZJdmm'],\n",
       " ['GwMNMGBMRMGjdSGsDntglDrDGQ', 'WTmPPzfmlQrsnQmg', 'ZPTJVvllhBwvLvwRwj'],\n",
       " ['nlSvqqFqzfnbnvFwwsGHTBHgPfWsTrRPgG',\n",
       "  'dMdjphVhhgdLVJhNRBGPRWWBBGPTTGHV',\n",
       "  'thJgLpghLNLhNQMCtdMhSmFlQnzzwnbzlbqqSQFb'],\n",
       " ['ZJJLBWhJBNwJwLvgRgGRgbZqbHTbGT',\n",
       "  'cCrfFFnzjmdrdrmmzsgSPSHSbHWPRgrgGR',\n",
       "  'dmCFntnFctjfdVtttjtDVncfBDlNJJppwQMwNBNvvplppWNh'],\n",
       " ['GGNNNbNbqmsmTVbCDQQhDJQT',\n",
       "  'rgPvdgMdPdBddvMcrMnvgcSwhClTTJCwClDTvLJJthTlth',\n",
       "  'zBdWpnDBDmfFGRffzH'],\n",
       " ['WNNNWcDcdVHNQTNT',\n",
       "  'lLvLctvrvvvPCpHLQQTZVQLTTHBV',\n",
       "  'zltgpbPCrrmtlmrlhhbqcWMqDDMDFMfbGScc'],\n",
       " ['dzSHRCGZGdRQWQWtllWB',\n",
       "  'mNmbLbbmwjsmsNjDmcPvpVHBVPQvWDWBBpvB',\n",
       "  'jnmNNrLcnnjjHhSCdGMSfrfd'],\n",
       " ['mgGvfvJSmSSrbvScmGccTPCqNnRjlpNNfNjqwqlpNpfw',\n",
       "  'zZLLQFFFtsFwWjjRqbbCsW',\n",
       "  'hBBLBdFHddVrGbVc'],\n",
       " ['bJGchsCcHwbHfgvg',\n",
       "  'qdlSSNqLPqlPQZDffgfZRZMghvZr',\n",
       "  'PLtqtFTPNLlWlqtQqqQzBBmcnschGtjtnChmzC'],\n",
       " ['llNLDLzjDtCTVtClCDMHSlmwdmmdSmddwZSS',\n",
       "  'gPJszvsBPbwSHZRQSJQJ',\n",
       "  'bgFssFPcWhDjCzLcnNDD'],\n",
       " ['ZTGMwdhMwMJphZMJlNdVBCnncNPLBCCRPnCncn',\n",
       "  'fWsqmfSsqvfFFFvmWjfSSsPLCwVPRnPRCmRnRRCVzRCV',\n",
       "  'FQfQfvStwjtqsjvvQWFfWqWtlMDdGTJJGdMdhJtDMbllDZ'],\n",
       " ['DzZLpBDptpVPrrrFPqRmBj',\n",
       "  'WsfCTTgMllCWJMlhslNsCFJrGqvmRPqmqZjGFjvmvm',\n",
       "  'HfghcNghHhgNNfbDDZdcdpndDzpt'],\n",
       " ['RRBRdJfccVRdDJqdDrvwShwvztWJlWwSJn',\n",
       "  'mPtCHPPmHbmHNZjjjQHbMSgrSWhWzWnnQwvzzrlrll',\n",
       "  'tpFmjpmjFMCmppmVTVLFVfBqTqVDLd'],\n",
       " ['jtljZcTcVVtdggVmdczzzDPzvCsvRbDsDmvm',\n",
       "  'MHHnnJMFMNpwSNprpMJrfsbPRRbWDGLbHLDRvzzssR',\n",
       "  'rJFNvQfBSwQBwNwldZTqTtctQchthc'],\n",
       " ['WsWTWsfjgTJGSnTz',\n",
       "  'RHNmvRLCpJclcNcvHpNcPBzgQgMnnGFnLFgPgnPF',\n",
       "  'mHlcdbbccZcCCCNZZNcCWtthWbWqwwJsbDfthfwW'],\n",
       " ['vFFzppnHFrjmpljQhg', 'JPGfPWVdwfPgQzVQlTrQrZ', 'PwRJfGDBfCHMzRHNHMNR']]"
      ]
     },
     "execution_count": 47,
     "metadata": {},
     "output_type": "execute_result"
    }
   ],
   "source": [
    "divided = [data_new[i:i + 3] for i in range(0, len(data_new), 3)]\n",
    "divided"
   ]
  },
  {
   "cell_type": "code",
   "execution_count": 53,
   "metadata": {},
   "outputs": [
    {
     "data": {
      "text/plain": [
       "100"
      ]
     },
     "execution_count": 53,
     "metadata": {},
     "output_type": "execute_result"
    }
   ],
   "source": [
    "len(divided)"
   ]
  },
  {
   "cell_type": "code",
   "execution_count": 67,
   "metadata": {},
   "outputs": [
    {
     "data": {
      "text/plain": [
       "['h',\n",
       " 'C',\n",
       " 'N',\n",
       " 'F',\n",
       " 'm',\n",
       " 'p',\n",
       " 'p',\n",
       " 'l',\n",
       " 'z',\n",
       " 'f',\n",
       " 'H',\n",
       " 'j',\n",
       " 'D',\n",
       " 'B',\n",
       " 't',\n",
       " 'D',\n",
       " 'F',\n",
       " 'B',\n",
       " 'm',\n",
       " 'H',\n",
       " 'J',\n",
       " 'z',\n",
       " 'v',\n",
       " 'R',\n",
       " 'q',\n",
       " 'v',\n",
       " 'D',\n",
       " 'R',\n",
       " 'H',\n",
       " 'Z',\n",
       " 'q',\n",
       " 'D',\n",
       " 'z',\n",
       " 'l',\n",
       " 'r',\n",
       " 'R',\n",
       " 'Z',\n",
       " 's',\n",
       " 'R',\n",
       " 'm',\n",
       " 'q',\n",
       " 'Q',\n",
       " 'R',\n",
       " 'S',\n",
       " 'm',\n",
       " 'l',\n",
       " 'c',\n",
       " 'C',\n",
       " 'g',\n",
       " 'j',\n",
       " 'L',\n",
       " 'G',\n",
       " 't',\n",
       " 'M',\n",
       " 'V',\n",
       " 'q',\n",
       " 'Z',\n",
       " 'v',\n",
       " 'B',\n",
       " 'B',\n",
       " 'v',\n",
       " 'z',\n",
       " 'n',\n",
       " 'c',\n",
       " 's',\n",
       " 'M',\n",
       " 'V',\n",
       " 'c',\n",
       " 'c',\n",
       " 'S',\n",
       " 'Z',\n",
       " 'F',\n",
       " 'S',\n",
       " 'z',\n",
       " 'W',\n",
       " 'M',\n",
       " 'n',\n",
       " 'C',\n",
       " 'D',\n",
       " 'r',\n",
       " 'J',\n",
       " 'G',\n",
       " 'H',\n",
       " 'Z',\n",
       " 'm',\n",
       " 'l',\n",
       " 'g',\n",
       " 'W',\n",
       " 'D',\n",
       " 'c',\n",
       " 'H',\n",
       " 'b',\n",
       " 'h',\n",
       " 'z',\n",
       " 'w',\n",
       " 'Z',\n",
       " 't',\n",
       " 'v',\n",
       " 'J',\n",
       " 'z']"
      ]
     },
     "execution_count": 67,
     "metadata": {},
     "output_type": "execute_result"
    }
   ],
   "source": [
    "common_items = []\n",
    "for i in divided:\n",
    "\n",
    "    first = i[0]\n",
    "    second = i[1]\n",
    "    third = i[2]\n",
    "    \n",
    "    for k in first:\n",
    "        if (k in second and k in third):\n",
    "            common_items.append(k)\n",
    "            break\n",
    "\n",
    "common_items"
   ]
  },
  {
   "cell_type": "code",
   "execution_count": 71,
   "metadata": {},
   "outputs": [
    {
     "data": {
      "text/plain": [
       "2681"
      ]
     },
     "execution_count": 71,
     "metadata": {},
     "output_type": "execute_result"
    }
   ],
   "source": [
    "total_point = 0\n",
    "for i in common_items:\n",
    "    point = alphabet.index(i) + 1\n",
    "    total_point += point\n",
    "\n",
    "# PART 2 RESULT\n",
    "total_point"
   ]
  },
  {
   "cell_type": "code",
   "execution_count": null,
   "metadata": {},
   "outputs": [],
   "source": []
  }
 ],
 "metadata": {
  "kernelspec": {
   "display_name": "Python 3.10.8 64-bit (microsoft store)",
   "language": "python",
   "name": "python3"
  },
  "language_info": {
   "codemirror_mode": {
    "name": "ipython",
    "version": 3
   },
   "file_extension": ".py",
   "mimetype": "text/x-python",
   "name": "python",
   "nbconvert_exporter": "python",
   "pygments_lexer": "ipython3",
   "version": "3.10.8"
  },
  "orig_nbformat": 4,
  "vscode": {
   "interpreter": {
    "hash": "6a379587d22b9a356003d6e869dec3cc9098229b926b80c8786e0526e5774855"
   }
  }
 },
 "nbformat": 4,
 "nbformat_minor": 2
}
