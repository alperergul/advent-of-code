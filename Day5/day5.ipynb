{
 "cells": [
  {
   "cell_type": "markdown",
   "id": "1a14283b-caec-4705-b712-9d234bd4781b",
   "metadata": {
    "tags": []
   },
   "source": [
    "# PART 1"
   ]
  },
  {
   "cell_type": "code",
   "execution_count": 408,
   "id": "b3143d22-bec2-4ef8-a34d-808af9f2824b",
   "metadata": {},
   "outputs": [],
   "source": [
    "with open(\"./day5_data.txt\", \"r\") as file:\n",
    "    data = file.readlines()"
   ]
  },
  {
   "cell_type": "code",
   "execution_count": 409,
   "id": "7d566bbe-ce21-4963-85d1-40cc401a5e50",
   "metadata": {},
   "outputs": [],
   "source": [
    "data_replaced = []\n",
    "for i in data:\n",
    "    i = i.replace(' ', 'x')\n",
    "    data_replaced.append(i)\n"
   ]
  },
  {
   "cell_type": "code",
   "execution_count": 410,
   "id": "66cb11e2-ce97-4f5b-9e1a-c8a695cb6de4",
   "metadata": {},
   "outputs": [
    {
     "data": {
      "text/plain": [
       "['            [L] [M]         [M]    \\n',\n",
       " '        [D] [R] [Z]         [C] [L]\\n',\n",
       " '        [C] [S] [T] [G]     [V] [M]\\n',\n",
       " '[R]     [L] [Q] [B] [B]     [D] [F]\\n',\n",
       " '[H] [B] [G] [D] [Q] [Z]     [T] [J]\\n',\n",
       " '[M] [J] [H] [M] [P] [S] [V] [L] [N]\\n',\n",
       " '[P] [C] [N] [T] [S] [F] [R] [G] [Q]\\n',\n",
       " '[Z] [P] [S] [F] [F] [T] [N] [P] [W]\\n',\n",
       " ' 1   2   3   4   5   6   7   8   9 \\n']"
      ]
     },
     "execution_count": 410,
     "metadata": {},
     "output_type": "execute_result"
    }
   ],
   "source": [
    "data[:9]"
   ]
  },
  {
   "cell_type": "code",
   "execution_count": 411,
   "id": "7b5e6e9d-3dfb-456d-8e70-2304de8b616c",
   "metadata": {},
   "outputs": [
    {
     "data": {
      "text/plain": [
       "['    ', '    ', '    ', '[L] ', '[M] ', '    ', '    ', '[M] ', '   \\n']"
      ]
     },
     "execution_count": 411,
     "metadata": {},
     "output_type": "execute_result"
    }
   ],
   "source": [
    "[data[0][i:i+4] for i in range(0,len(data[0]),4)]"
   ]
  },
  {
   "cell_type": "code",
   "execution_count": 412,
   "id": "bc3ef909-7776-4393-bcfd-90d232e77c48",
   "metadata": {},
   "outputs": [
    {
     "data": {
      "text/plain": [
       "['            [L] [M]         [M]    \\n',\n",
       " '        [D] [R] [Z]         [C] [L]\\n',\n",
       " '        [C] [S] [T] [G]     [V] [M]\\n',\n",
       " '[R]     [L] [Q] [B] [B]     [D] [F]\\n',\n",
       " '[H] [B] [G] [D] [Q] [Z]     [T] [J]\\n',\n",
       " '[M] [J] [H] [M] [P] [S] [V] [L] [N]\\n',\n",
       " '[P] [C] [N] [T] [S] [F] [R] [G] [Q]\\n',\n",
       " '[Z] [P] [S] [F] [F] [T] [N] [P] [W]\\n',\n",
       " ' 1   2   3   4   5   6   7   8   9 \\n']"
      ]
     },
     "execution_count": 412,
     "metadata": {},
     "output_type": "execute_result"
    }
   ],
   "source": [
    "stack_status = data[:9]\n",
    "stack_status"
   ]
  },
  {
   "cell_type": "code",
   "execution_count": 413,
   "id": "c96e85c0-e7e9-4723-8bb5-d45c06519c7f",
   "metadata": {},
   "outputs": [],
   "source": [
    "stack_array = []\n",
    "for stack in stack_status:\n",
    "    stack = [stack[i:i+4] for i in range(0,len(stack),4)]\n",
    "    stack_array.append(stack)"
   ]
  },
  {
   "cell_type": "code",
   "execution_count": 414,
   "id": "721c8fb1-760a-446d-9a30-a4d8e3cfe62b",
   "metadata": {},
   "outputs": [
    {
     "data": {
      "text/plain": [
       "[['    ', '    ', '    ', '[L] ', '[M] ', '    ', '    ', '[M] ', '   \\n'],\n",
       " ['    ', '    ', '[D] ', '[R] ', '[Z] ', '    ', '    ', '[C] ', '[L]\\n'],\n",
       " ['    ', '    ', '[C] ', '[S] ', '[T] ', '[G] ', '    ', '[V] ', '[M]\\n'],\n",
       " ['[R] ', '    ', '[L] ', '[Q] ', '[B] ', '[B] ', '    ', '[D] ', '[F]\\n'],\n",
       " ['[H] ', '[B] ', '[G] ', '[D] ', '[Q] ', '[Z] ', '    ', '[T] ', '[J]\\n'],\n",
       " ['[M] ', '[J] ', '[H] ', '[M] ', '[P] ', '[S] ', '[V] ', '[L] ', '[N]\\n'],\n",
       " ['[P] ', '[C] ', '[N] ', '[T] ', '[S] ', '[F] ', '[R] ', '[G] ', '[Q]\\n'],\n",
       " ['[Z] ', '[P] ', '[S] ', '[F] ', '[F] ', '[T] ', '[N] ', '[P] ', '[W]\\n'],\n",
       " [' 1  ', ' 2  ', ' 3  ', ' 4  ', ' 5  ', ' 6  ', ' 7  ', ' 8  ', ' 9 \\n']]"
      ]
     },
     "execution_count": 414,
     "metadata": {},
     "output_type": "execute_result"
    }
   ],
   "source": [
    "stack_array"
   ]
  },
  {
   "cell_type": "code",
   "execution_count": 415,
   "id": "75b7c162-a79d-41cf-b552-643216aff125",
   "metadata": {},
   "outputs": [],
   "source": [
    "line1 = []\n",
    "line2 = []\n",
    "line3 = []\n",
    "line4 = []\n",
    "line5 = []\n",
    "line6 = []\n",
    "line7 = []\n",
    "line8 = []\n",
    "line9 = []\n",
    "\n",
    "for i in range(len(stack_array)-2, -1, -1):\n",
    "    line1.append(stack_array[i][0])\n",
    "    line2.append(stack_array[i][1])\n",
    "    line3.append(stack_array[i][2])\n",
    "    line4.append(stack_array[i][3])\n",
    "    line5.append(stack_array[i][4])\n",
    "    line6.append(stack_array[i][5])\n",
    "    line7.append(stack_array[i][6])\n",
    "    line8.append(stack_array[i][7])\n",
    "    line9.append(stack_array[i][8].replace('\\n', ' '))"
   ]
  },
  {
   "cell_type": "code",
   "execution_count": null,
   "id": "52799b1a-26ba-4613-a89c-1845d67a6a62",
   "metadata": {},
   "outputs": [],
   "source": []
  },
  {
   "cell_type": "code",
   "execution_count": 416,
   "id": "79fabd93-468e-441b-b3d2-7840d6e492e2",
   "metadata": {},
   "outputs": [],
   "source": [
    "#line1_str = \"\"\n",
    "#for i in line1:\n",
    "#    line1_str += i\n",
    "#line1_str\n",
    "#\n"
   ]
  },
  {
   "cell_type": "code",
   "execution_count": 417,
   "id": "7c55acd4-c670-40ec-b515-d5e724502499",
   "metadata": {},
   "outputs": [],
   "source": [
    "#line1_str = line1_str.strip(' ')\n",
    "#line1_str"
   ]
  },
  {
   "cell_type": "code",
   "execution_count": 418,
   "id": "7fd5bffd-596c-49bd-855f-37487a35e9c2",
   "metadata": {},
   "outputs": [],
   "source": [
    "#line1 = line1_str.split(' ')"
   ]
  },
  {
   "cell_type": "code",
   "execution_count": 419,
   "id": "e54691a2-a5df-47a4-acaf-59a0bd3f7b57",
   "metadata": {},
   "outputs": [],
   "source": [
    "#line1"
   ]
  },
  {
   "cell_type": "code",
   "execution_count": 420,
   "id": "c927bc24-1224-4c6d-b8c0-eca1509bc11d",
   "metadata": {},
   "outputs": [
    {
     "data": {
      "text/plain": [
       "[['[Z] ', '[P] ', '[M] ', '[H] ', '[R] ', '    ', '    ', '    '],\n",
       " ['[P] ', '[C] ', '[J] ', '[B] ', '    ', '    ', '    ', '    '],\n",
       " ['[S] ', '[N] ', '[H] ', '[G] ', '[L] ', '[C] ', '[D] ', '    '],\n",
       " ['[F] ', '[T] ', '[M] ', '[D] ', '[Q] ', '[S] ', '[R] ', '[L] '],\n",
       " ['[F] ', '[S] ', '[P] ', '[Q] ', '[B] ', '[T] ', '[Z] ', '[M] '],\n",
       " ['[T] ', '[F] ', '[S] ', '[Z] ', '[B] ', '[G] ', '    ', '    '],\n",
       " ['[N] ', '[R] ', '[V] ', '    ', '    ', '    ', '    ', '    '],\n",
       " ['[P] ', '[G] ', '[L] ', '[T] ', '[D] ', '[V] ', '[C] ', '[M] '],\n",
       " ['[W] ', '[Q] ', '[N] ', '[J] ', '[F] ', '[M] ', '[L] ', '    ']]"
      ]
     },
     "execution_count": 420,
     "metadata": {},
     "output_type": "execute_result"
    }
   ],
   "source": [
    "lines =[line1,line2,line3,line4,line5,line6,line7,line8,line9]\n",
    "lines"
   ]
  },
  {
   "cell_type": "code",
   "execution_count": 421,
   "id": "07f504aa-2cc0-4dc9-8259-58eb39b84574",
   "metadata": {},
   "outputs": [],
   "source": [
    "lines_updated = []\n",
    "for line in lines:\n",
    "    string =\"\"\n",
    "    for i in line:\n",
    "        string +=i\n",
    "    string = string.strip(' ')\n",
    "    lines_updated.append(string.split(' '))"
   ]
  },
  {
   "cell_type": "code",
   "execution_count": 422,
   "id": "4f962fed-645d-4cd6-adcf-a6b56191ad4e",
   "metadata": {},
   "outputs": [
    {
     "data": {
      "text/plain": [
       "[['[Z]', '[P]', '[M]', '[H]', '[R]'],\n",
       " ['[P]', '[C]', '[J]', '[B]'],\n",
       " ['[S]', '[N]', '[H]', '[G]', '[L]', '[C]', '[D]'],\n",
       " ['[F]', '[T]', '[M]', '[D]', '[Q]', '[S]', '[R]', '[L]'],\n",
       " ['[F]', '[S]', '[P]', '[Q]', '[B]', '[T]', '[Z]', '[M]'],\n",
       " ['[T]', '[F]', '[S]', '[Z]', '[B]', '[G]'],\n",
       " ['[N]', '[R]', '[V]'],\n",
       " ['[P]', '[G]', '[L]', '[T]', '[D]', '[V]', '[C]', '[M]'],\n",
       " ['[W]', '[Q]', '[N]', '[J]', '[F]', '[M]', '[L]']]"
      ]
     },
     "execution_count": 422,
     "metadata": {},
     "output_type": "execute_result"
    }
   ],
   "source": [
    "lines_updated"
   ]
  },
  {
   "cell_type": "code",
   "execution_count": 423,
   "id": "4e35110e-bec2-4ff9-b369-f636614944e8",
   "metadata": {},
   "outputs": [],
   "source": [
    "commands = data[10:]"
   ]
  },
  {
   "cell_type": "code",
   "execution_count": 424,
   "id": "1138424c-5273-4287-be7b-0a263bc53c04",
   "metadata": {},
   "outputs": [],
   "source": [
    "command_nums = []\n",
    "for i in commands:\n",
    "    nums = []\n",
    "    for k in i.strip('\\n').split(\" \"):\n",
    "        if (k.isnumeric()):\n",
    "            nums.append(int(k))\n",
    "    command_nums.append(nums)\n",
    "\n",
    "    "
   ]
  },
  {
   "cell_type": "code",
   "execution_count": 425,
   "id": "80b36114-804a-4cfa-bd80-4a3a2b222708",
   "metadata": {},
   "outputs": [
    {
     "data": {
      "text/plain": [
       "501"
      ]
     },
     "execution_count": 425,
     "metadata": {},
     "output_type": "execute_result"
    }
   ],
   "source": [
    "len(command_nums)"
   ]
  },
  {
   "cell_type": "code",
   "execution_count": 426,
   "id": "e8049153-33af-4c42-b22b-168c22eaeb2c",
   "metadata": {},
   "outputs": [
    {
     "data": {
      "text/plain": [
       "501"
      ]
     },
     "execution_count": 426,
     "metadata": {},
     "output_type": "execute_result"
    }
   ],
   "source": [
    "len(data[10:])"
   ]
  },
  {
   "cell_type": "code",
   "execution_count": 427,
   "id": "fb391237-fb56-4d7b-bfd2-6c9faeee367a",
   "metadata": {},
   "outputs": [],
   "source": [
    "def carry(amount, from_line, to_line):\n",
    "    \n",
    "    from_line = from_line - 1\n",
    "    to_line = to_line - 1\n",
    "    \n",
    "    for i in range(0,amount):\n",
    "        popped = lines_updated[from_line].pop()\n",
    "        lines_updated[to_line].append(popped)\n",
    "    \n",
    "    \n",
    "    \n",
    "    "
   ]
  },
  {
   "cell_type": "code",
   "execution_count": 428,
   "id": "16642765-6936-472a-a5fe-44999a69de7d",
   "metadata": {},
   "outputs": [],
   "source": [
    "for i in command_nums:\n",
    "    carry(i[0], i[1], i[2])"
   ]
  },
  {
   "cell_type": "code",
   "execution_count": 429,
   "id": "90b4fcfe-20a9-4a5c-8656-9016db519600",
   "metadata": {},
   "outputs": [
    {
     "data": {
      "text/plain": [
       "[['[D]', '[G]', '[V]'],\n",
       " ['[G]',\n",
       "  '[P]',\n",
       "  '[Q]',\n",
       "  '[T]',\n",
       "  '[C]',\n",
       "  '[B]',\n",
       "  '[T]',\n",
       "  '[M]',\n",
       "  '[C]',\n",
       "  '[V]',\n",
       "  '[S]',\n",
       "  '[M]',\n",
       "  '[R]',\n",
       "  '[F]',\n",
       "  '[Q]'],\n",
       " ['[P]', '[S]', '[M]', '[Z]', '[Z]'],\n",
       " ['[M]',\n",
       "  '[F]',\n",
       "  '[L]',\n",
       "  '[F]',\n",
       "  '[P]',\n",
       "  '[B]',\n",
       "  '[N]',\n",
       "  '[S]',\n",
       "  '[L]',\n",
       "  '[L]',\n",
       "  '[D]',\n",
       "  '[N]'],\n",
       " ['[J]'],\n",
       " ['[N]', '[H]', '[R]', '[Z]', '[L]', '[Q]', '[M]'],\n",
       " ['[H]', '[P]', '[C]', '[W]'],\n",
       " ['[D]', '[S]', '[T]'],\n",
       " ['[G]', '[J]', '[F]', '[B]', '[T]', '[R]']]"
      ]
     },
     "execution_count": 429,
     "metadata": {},
     "output_type": "execute_result"
    }
   ],
   "source": [
    "lines_updated"
   ]
  },
  {
   "cell_type": "code",
   "execution_count": 430,
   "id": "b06381f1-83bf-40d8-8976-16a92a01d920",
   "metadata": {},
   "outputs": [],
   "source": [
    "text = \"\"\n",
    "for i in lines_updated:\n",
    "    text += i[-1]"
   ]
  },
  {
   "cell_type": "code",
   "execution_count": 431,
   "id": "223c00bd-7262-42c2-ab45-1ad07f4477dd",
   "metadata": {},
   "outputs": [
    {
     "data": {
      "text/plain": [
       "'[V][Q][Z][N][J][M][W][T][R]'"
      ]
     },
     "execution_count": 431,
     "metadata": {},
     "output_type": "execute_result"
    }
   ],
   "source": [
    "text"
   ]
  },
  {
   "cell_type": "markdown",
   "id": "0a88d606-7ff3-4b06-9aa0-e7c37f1080c7",
   "metadata": {},
   "source": [
    "# PART 2"
   ]
  },
  {
   "cell_type": "code",
   "execution_count": 432,
   "id": "882804e5-c094-4acd-a131-c45d67a88e70",
   "metadata": {},
   "outputs": [],
   "source": [
    "with open(\"./day5_data.txt\", \"r\") as file:\n",
    "    data = file.readlines()"
   ]
  },
  {
   "cell_type": "code",
   "execution_count": 433,
   "id": "b1ec0d7d-ff3e-4b45-99da-54fbbc45d16b",
   "metadata": {},
   "outputs": [
    {
     "data": {
      "text/plain": [
       "['            [L] [M]         [M]    \\n',\n",
       " '        [D] [R] [Z]         [C] [L]\\n',\n",
       " '        [C] [S] [T] [G]     [V] [M]\\n',\n",
       " '[R]     [L] [Q] [B] [B]     [D] [F]\\n',\n",
       " '[H] [B] [G] [D] [Q] [Z]     [T] [J]\\n',\n",
       " '[M] [J] [H] [M] [P] [S] [V] [L] [N]\\n',\n",
       " '[P] [C] [N] [T] [S] [F] [R] [G] [Q]\\n',\n",
       " '[Z] [P] [S] [F] [F] [T] [N] [P] [W]\\n',\n",
       " ' 1   2   3   4   5   6   7   8   9 \\n']"
      ]
     },
     "execution_count": 433,
     "metadata": {},
     "output_type": "execute_result"
    }
   ],
   "source": [
    "data[:9]"
   ]
  },
  {
   "cell_type": "code",
   "execution_count": 434,
   "id": "f2c63f2c-ec8f-4d78-a2d5-32ca93d46649",
   "metadata": {},
   "outputs": [
    {
     "data": {
      "text/plain": [
       "['            [L] [M]         [M]    \\n',\n",
       " '        [D] [R] [Z]         [C] [L]\\n',\n",
       " '        [C] [S] [T] [G]     [V] [M]\\n',\n",
       " '[R]     [L] [Q] [B] [B]     [D] [F]\\n',\n",
       " '[H] [B] [G] [D] [Q] [Z]     [T] [J]\\n',\n",
       " '[M] [J] [H] [M] [P] [S] [V] [L] [N]\\n',\n",
       " '[P] [C] [N] [T] [S] [F] [R] [G] [Q]\\n',\n",
       " '[Z] [P] [S] [F] [F] [T] [N] [P] [W]\\n',\n",
       " ' 1   2   3   4   5   6   7   8   9 \\n']"
      ]
     },
     "execution_count": 434,
     "metadata": {},
     "output_type": "execute_result"
    }
   ],
   "source": [
    "stack_status = data[:9]\n",
    "stack_status"
   ]
  },
  {
   "cell_type": "code",
   "execution_count": 435,
   "id": "3efeee26-f204-4cb7-9b6d-6088acebc1a5",
   "metadata": {},
   "outputs": [],
   "source": [
    "stack_array = []\n",
    "for stack in stack_status:\n",
    "    stack = [stack[i:i+4] for i in range(0,len(stack),4)]\n",
    "    stack_array.append(stack)"
   ]
  },
  {
   "cell_type": "code",
   "execution_count": 436,
   "id": "ee05ed41-b624-4faf-a1fb-bbe68e2c2bc8",
   "metadata": {},
   "outputs": [],
   "source": [
    "line1 = []\n",
    "line2 = []\n",
    "line3 = []\n",
    "line4 = []\n",
    "line5 = []\n",
    "line6 = []\n",
    "line7 = []\n",
    "line8 = []\n",
    "line9 = []\n",
    "\n",
    "for i in range(len(stack_array)-2, -1, -1):\n",
    "    line1.append(stack_array[i][0])\n",
    "    line2.append(stack_array[i][1])\n",
    "    line3.append(stack_array[i][2])\n",
    "    line4.append(stack_array[i][3])\n",
    "    line5.append(stack_array[i][4])\n",
    "    line6.append(stack_array[i][5])\n",
    "    line7.append(stack_array[i][6])\n",
    "    line8.append(stack_array[i][7])\n",
    "    line9.append(stack_array[i][8].replace('\\n', ' '))"
   ]
  },
  {
   "cell_type": "code",
   "execution_count": 437,
   "id": "0bd64d30-21aa-4ab8-9e57-6ba842c3c5f5",
   "metadata": {},
   "outputs": [
    {
     "data": {
      "text/plain": [
       "[['[Z] ', '[P] ', '[M] ', '[H] ', '[R] ', '    ', '    ', '    '],\n",
       " ['[P] ', '[C] ', '[J] ', '[B] ', '    ', '    ', '    ', '    '],\n",
       " ['[S] ', '[N] ', '[H] ', '[G] ', '[L] ', '[C] ', '[D] ', '    '],\n",
       " ['[F] ', '[T] ', '[M] ', '[D] ', '[Q] ', '[S] ', '[R] ', '[L] '],\n",
       " ['[F] ', '[S] ', '[P] ', '[Q] ', '[B] ', '[T] ', '[Z] ', '[M] '],\n",
       " ['[T] ', '[F] ', '[S] ', '[Z] ', '[B] ', '[G] ', '    ', '    '],\n",
       " ['[N] ', '[R] ', '[V] ', '    ', '    ', '    ', '    ', '    '],\n",
       " ['[P] ', '[G] ', '[L] ', '[T] ', '[D] ', '[V] ', '[C] ', '[M] '],\n",
       " ['[W] ', '[Q] ', '[N] ', '[J] ', '[F] ', '[M] ', '[L] ', '    ']]"
      ]
     },
     "execution_count": 437,
     "metadata": {},
     "output_type": "execute_result"
    }
   ],
   "source": [
    "lines =[line1,line2,line3,line4,line5,line6,line7,line8,line9]\n",
    "lines"
   ]
  },
  {
   "cell_type": "code",
   "execution_count": 438,
   "id": "8cf75b45-575b-4e17-aecd-d25f957abd17",
   "metadata": {},
   "outputs": [],
   "source": [
    "lines_updated = []\n",
    "for line in lines:\n",
    "    string =\"\"\n",
    "    for i in line:\n",
    "        string +=i\n",
    "    string = string.strip(' ')\n",
    "    lines_updated.append(string.split(' '))"
   ]
  },
  {
   "cell_type": "code",
   "execution_count": 439,
   "id": "426152db-d0d9-4fc0-8f40-9ff0a30499e3",
   "metadata": {},
   "outputs": [
    {
     "data": {
      "text/plain": [
       "[['[Z]', '[P]', '[M]', '[H]', '[R]'],\n",
       " ['[P]', '[C]', '[J]', '[B]'],\n",
       " ['[S]', '[N]', '[H]', '[G]', '[L]', '[C]', '[D]'],\n",
       " ['[F]', '[T]', '[M]', '[D]', '[Q]', '[S]', '[R]', '[L]'],\n",
       " ['[F]', '[S]', '[P]', '[Q]', '[B]', '[T]', '[Z]', '[M]'],\n",
       " ['[T]', '[F]', '[S]', '[Z]', '[B]', '[G]'],\n",
       " ['[N]', '[R]', '[V]'],\n",
       " ['[P]', '[G]', '[L]', '[T]', '[D]', '[V]', '[C]', '[M]'],\n",
       " ['[W]', '[Q]', '[N]', '[J]', '[F]', '[M]', '[L]']]"
      ]
     },
     "execution_count": 439,
     "metadata": {},
     "output_type": "execute_result"
    }
   ],
   "source": [
    "lines_updated"
   ]
  },
  {
   "cell_type": "code",
   "execution_count": 440,
   "id": "1dfec0ab-f25f-4f8f-a3e0-ef1ccdfa410f",
   "metadata": {},
   "outputs": [],
   "source": [
    "commands = data[10:]"
   ]
  },
  {
   "cell_type": "code",
   "execution_count": 441,
   "id": "c25d1f78-40c3-4999-b6d4-5065d2ffb076",
   "metadata": {},
   "outputs": [],
   "source": [
    "command_nums = []\n",
    "for i in commands:\n",
    "    nums = []\n",
    "    for k in i.strip('\\n').split(\" \"):\n",
    "        if (k.isnumeric()):\n",
    "            nums.append(int(k))\n",
    "    command_nums.append(nums)\n",
    "\n",
    "    "
   ]
  },
  {
   "cell_type": "code",
   "execution_count": 442,
   "id": "7c21e65a-4fbe-430f-a066-adbfa2186777",
   "metadata": {},
   "outputs": [],
   "source": [
    "def carry_2(amount, from_line, to_line):\n",
    "    \n",
    "    from_line = from_line - 1\n",
    "    to_line = to_line - 1\n",
    "    temp = []\n",
    "    for i in range(0,amount):\n",
    "        \n",
    "        popped = lines_updated[from_line].pop()\n",
    "        temp.append(popped)\n",
    "    for i in range(0, amount):\n",
    "        popped = temp.pop()\n",
    "        lines_updated[to_line].append(popped)\n",
    "    \n",
    "    \n",
    "    \n",
    "    "
   ]
  },
  {
   "cell_type": "code",
   "execution_count": 443,
   "id": "756c4830-eaf6-434c-b0ef-de8a5f7f17e5",
   "metadata": {},
   "outputs": [],
   "source": [
    "for i in command_nums:\n",
    "    carry_2(i[0], i[1], i[2])"
   ]
  },
  {
   "cell_type": "code",
   "execution_count": 444,
   "id": "db6f8c57-e76e-4b12-b1a3-6a1a8adef8f4",
   "metadata": {},
   "outputs": [
    {
     "data": {
      "text/plain": [
       "'[N][L][C][D][C][L][V][M][Q]'"
      ]
     },
     "execution_count": 444,
     "metadata": {},
     "output_type": "execute_result"
    }
   ],
   "source": [
    "text = \"\"\n",
    "for i in lines_updated:\n",
    "    text += i[-1]\n",
    "text"
   ]
  },
  {
   "cell_type": "code",
   "execution_count": null,
   "id": "f5004329-6edb-4a44-a448-a91168a95d10",
   "metadata": {},
   "outputs": [],
   "source": []
  },
  {
   "cell_type": "code",
   "execution_count": null,
   "id": "2a3f3985-1f4b-4c2e-81c3-2821a66e6bef",
   "metadata": {},
   "outputs": [],
   "source": []
  },
  {
   "cell_type": "code",
   "execution_count": null,
   "id": "de80dd93-3750-4783-86dc-b08f20590277",
   "metadata": {},
   "outputs": [],
   "source": []
  },
  {
   "cell_type": "code",
   "execution_count": null,
   "id": "ff2d0957-da9e-4be0-ba1e-84870ee937c8",
   "metadata": {},
   "outputs": [],
   "source": []
  }
 ],
 "metadata": {
  "kernelspec": {
   "display_name": "Python 3 (ipykernel)",
   "language": "python",
   "name": "python3"
  },
  "language_info": {
   "codemirror_mode": {
    "name": "ipython",
    "version": 3
   },
   "file_extension": ".py",
   "mimetype": "text/x-python",
   "name": "python",
   "nbconvert_exporter": "python",
   "pygments_lexer": "ipython3",
   "version": "3.9.12"
  }
 },
 "nbformat": 4,
 "nbformat_minor": 5
}
