{
 "cells": [
  {
   "cell_type": "code",
   "execution_count": null,
   "outputs": [],
   "source": [
    "import sys\n",
    "from collections import defaultdict\n",
    "infile = 'day7_data.txt'\n",
    "data = open(infile).read().strip()\n",
    "lines = [x for x in data.split('\\n')]\n",
    "lines"
   ],
   "metadata": {
    "collapsed": false,
    "pycharm": {
     "name": "#%%\n",
     "is_executing": true
    }
   }
  },
  {
   "cell_type": "code",
   "execution_count": 2,
   "outputs": [],
   "source": [
    "dev_dict = defaultdict(int)\n",
    "path = []\n",
    "for line in lines:\n",
    "    words = line.strip().split()\n",
    "    if words[1] == 'cd':\n",
    "        if words[2] == '..':\n",
    "            path.pop()\n",
    "        else:\n",
    "            path.append(words[2])\n",
    "    elif words[1] == 'ls':\n",
    "        continue\n",
    "    elif words[0] == 'dir':\n",
    "        continue\n",
    "    else:\n",
    "        sz = int(words[0])\n",
    "        for i in range(1, len(path)+1):\n",
    "            dev_dict['/'.join(path[:i])] += sz\n"
   ],
   "metadata": {
    "collapsed": false,
    "pycharm": {
     "name": "#%%\n"
    }
   }
  },
  {
   "cell_type": "code",
   "execution_count": 3,
   "outputs": [
    {
     "data": {
      "text/plain": "defaultdict(int,\n            {'/': 48044502,\n             '//fchrtcbh': 997631,\n             '//fchrtcbh/fct': 25094,\n             '//fchrtcbh/fct/ctzphlhl': 25094,\n             '//fchrtcbh/fwttfps': 238081,\n             '//hlnbrj': 156396,\n             '//hlnbrj/mbwgsdcv': 156396,\n             '//jbt': 34676561,\n             '//jbt/bbm': 30005381,\n             '//jbt/bbm/nsshzppb': 6390337,\n             '//jbt/bbm/nsshzppb/jlcqcb': 5336501,\n             '//jbt/bbm/nsshzppb/jlcqcb/nzpvt': 3739140,\n             '//jbt/bbm/nsshzppb/jlcqcb/nzpvt/fct': 508888,\n             '//jbt/bbm/nsshzppb/jlcqcb/nzpvt/fct/fct': 230981,\n             '//jbt/bbm/nsshzppb/jlcqcb/nzpvt/lbsng': 395875,\n             '//jbt/bbm/nsshzppb/jlcqcb/nzpvt/lbsng/mzsj': 279834,\n             '//jbt/bbm/nsshzppb/jlcqcb/nzpvt/pfqcbp': 2046254,\n             '//jbt/bbm/nsshzppb/jlcqcb/nzpvt/pfqcbp/fct': 33372,\n             '//jbt/bbm/nsshzppb/jlcqcb/nzpvt/pfqcbp/ssbv': 1839741,\n             '//jbt/bbm/nsshzppb/jlcqcb/nzpvt/pfqcbp/ssbv/fct': 1106626,\n             '//jbt/bbm/nsshzppb/jlcqcb/nzpvt/pfqcbp/ssbv/pmqj': 34310,\n             '//jbt/bbm/nsshzppb/jlcqcb/pmncbz': 102403,\n             '//jbt/bbm/nsshzppb/jlcqcb/qqtlm': 495281,\n             '//jbt/bbm/nsshzppb/jlcqcb/qqtlm/ggjzcsfn': 219183,\n             '//jbt/bbm/nsshzppb/jlcqcb/qqtlm/ggjzcsfn/nlfv': 219183,\n             '//jbt/bbm/nsshzppb/jlcqcb/qqtlm/nzpvt': 141177,\n             '//jbt/bbm/nsshzppb/pfqcbp': 312723,\n             '//jbt/bbm/pfqcbp': 2135512,\n             '//jbt/bbm/pfqcbp/bvsj': 608354,\n             '//jbt/bbm/pfqcbp/bvsj/sdjddn': 390096,\n             '//jbt/bbm/pfqcbp/bvsj/sdjddn/tdl': 271008,\n             '//jbt/bbm/pfqcbp/bvsj/sdjddn/trpcd': 119088,\n             '//jbt/bbm/pfqcbp/gvndh': 577608,\n             '//jbt/bbm/pfqcbp/gvndh/bvg': 183661,\n             '//jbt/bbm/pfqcbp/gvndh/hsqmsqt': 85871,\n             '//jbt/bbm/pfqcbp/gvndh/hsqmsqt/bmvcv': 85871,\n             '//jbt/bbm/tdz': 58678,\n             '//jbt/bbm/tdz/nzpvt': 58678,\n             '//jbt/bbm/tdz/nzpvt/ttcwr': 58678,\n             '//jbt/bbm/tvqh': 21420854,\n             '//jbt/bbm/tvqh/hvqgrlb': 2297271,\n             '//jbt/bbm/tvqh/hvqgrlb/fct': 1165981,\n             '//jbt/bbm/tvqh/hvqgrlb/fct/zzl': 436155,\n             '//jbt/bbm/tvqh/hvqgrlb/nhnp': 622624,\n             '//jbt/bbm/tvqh/hvqgrlb/nlfv': 127844,\n             '//jbt/bbm/tvqh/hvqgrlb/nlfv/tdz': 127844,\n             '//jbt/bbm/tvqh/njqd': 6495349,\n             '//jbt/bbm/tvqh/njqd/ntrnlms': 15229,\n             '//jbt/bbm/tvqh/njqd/nzpvt': 2198892,\n             '//jbt/bbm/tvqh/njqd/nzpvt/fct': 185362,\n             '//jbt/bbm/tvqh/njqd/nzpvt/ltzw': 290023,\n             '//jbt/bbm/tvqh/njqd/nzpvt/sfwhmn': 674735,\n             '//jbt/bbm/tvqh/njqd/nzpvt/sfwhmn/jmgzcqvd': 12772,\n             '//jbt/bbm/tvqh/njqd/nzpvt/sfwhmn/jmgzcqvd/dtr': 12772,\n             '//jbt/bbm/tvqh/njqd/nzpvt/sfwhmn/jmgzcqvd/dtr/tdz': 12772,\n             '//jbt/bbm/tvqh/njqd/nzpvt/tdz': 1048772,\n             '//jbt/bbm/tvqh/njqd/nzpvt/tdz/fgd': 124670,\n             '//jbt/bbm/tvqh/njqd/nzpvt/tdz/fgd/zfvwp': 48696,\n             '//jbt/bbm/tvqh/njqd/nzpvt/tdz/pfqcbp': 194548,\n             '//jbt/bbm/tvqh/njqd/nzpvt/tdz/tdz': 283755,\n             '//jbt/bbm/tvqh/njqd/nzpvt/tdz/tdz/gwpps': 193706,\n             '//jbt/bbm/tvqh/njqd/nzpvt/tdz/tdz/zdbsq': 90049,\n             '//jbt/bbm/tvqh/njqd/vtvwjhm': 4212300,\n             '//jbt/bbm/tvqh/njqd/vtvwjhm/dnjgl': 3903058,\n             '//jbt/bbm/tvqh/njqd/vtvwjhm/dnjgl/lpdzhhf': 498936,\n             '//jbt/bbm/tvqh/njqd/vtvwjhm/dnjgl/nlfv': 121726,\n             '//jbt/bbm/tvqh/njqd/vtvwjhm/dnjgl/nmbrz': 3113872,\n             '//jbt/bbm/tvqh/njqd/vtvwjhm/dnjgl/nmbrz/cjv': 108233,\n             '//jbt/bbm/tvqh/njqd/vtvwjhm/dnjgl/nmbrz/fnmsjd': 551807,\n             '//jbt/bbm/tvqh/njqd/vtvwjhm/dnjgl/nmbrz/fnmsjd/fbnmdwmw': 183892,\n             '//jbt/bbm/tvqh/njqd/vtvwjhm/dnjgl/nmbrz/fnmsjd/jzq': 34417,\n             '//jbt/bbm/tvqh/njqd/vtvwjhm/dnjgl/nmbrz/fnmsjd/jzq/nzpvt': 34417,\n             '//jbt/bbm/tvqh/njqd/vtvwjhm/dnjgl/nmbrz/fnmsjd/tdz': 224596,\n             '//jbt/bbm/tvqh/njqd/vtvwjhm/dnjgl/nmbrz/fnmsjd/tdz/cmnw': 224596,\n             '//jbt/bbm/tvqh/njqd/vtvwjhm/dnjgl/nmbrz/hgzgq': 1375469,\n             '//jbt/bbm/tvqh/njqd/vtvwjhm/dnjgl/nmbrz/hgzgq/nzpvt': 408203,\n             '//jbt/bbm/tvqh/njqd/vtvwjhm/dnjgl/nmbrz/hgzgq/rhqj': 36358,\n             '//jbt/bbm/tvqh/njqd/vtvwjhm/dnjgl/nmbrz/hgzgq/tdz': 7924,\n             '//jbt/bbm/tvqh/njqd/vtvwjhm/dnjgl/nmbrz/hgzgq/zfgf': 190752,\n             '//jbt/bbm/tvqh/njqd/vtvwjhm/dnjgl/nmbrz/hst': 417697,\n             '//jbt/bbm/tvqh/njqd/vtvwjhm/dnjgl/nmbrz/pfqcbp': 164446,\n             '//jbt/bbm/tvqh/nzpvt': 1037605,\n             '//jbt/bbm/tvqh/nzpvt/swtrnt': 141492,\n             '//jbt/bbm/tvqh/nzpvt/swtrnt/fct': 141492,\n             '//jbt/bbm/tvqh/srq': 487638,\n             '//jbt/bbm/tvqh/tdz': 776573,\n             '//jbt/bbm/tvqh/vjdjl': 8679207,\n             '//jbt/bbm/tvqh/vjdjl/nlfv': 2647196,\n             '//jbt/bbm/tvqh/vjdjl/nlfv/bnjtlh': 799927,\n             '//jbt/bbm/tvqh/vjdjl/nlfv/bnjtlh/fct': 269563,\n             '//jbt/bbm/tvqh/vjdjl/nlfv/bnjtlh/nlfv': 198725,\n             '//jbt/bbm/tvqh/vjdjl/nlfv/gmvjtj': 59244,\n             '//jbt/bbm/tvqh/vjdjl/nlfv/gzdj': 1045454,\n             '//jbt/bbm/tvqh/vjdjl/nlfv/gzdj/fzhwfr': 552790,\n             '//jbt/bbm/tvqh/vjdjl/nlfv/gzdj/wgvw': 126255,\n             '//jbt/bbm/tvqh/vjdjl/nlfv/hpvrj': 270481,\n             '//jbt/bbm/tvqh/vjdjl/nlfv/tdz': 289817,\n             '//jbt/bbm/tvqh/vjdjl/nzpvt': 4827179,\n             '//jbt/bbm/tvqh/vjdjl/nzpvt/bnt': 3788101,\n             '//jbt/bbm/tvqh/vjdjl/nzpvt/bnt/gjdqwnd': 2553891,\n             '//jbt/bbm/tvqh/vjdjl/nzpvt/bnt/gjdqwnd/ghsbcb': 479129,\n             '//jbt/bbm/tvqh/vjdjl/nzpvt/bnt/gjdqwnd/gnnnslbh': 1827527,\n             '//jbt/bbm/tvqh/vjdjl/nzpvt/bnt/gjdqwnd/gnnnslbh/fct': 249569,\n             '//jbt/bbm/tvqh/vjdjl/nzpvt/bnt/gjdqwnd/gnnnslbh/nnp': 232389,\n             '//jbt/bbm/tvqh/vjdjl/nzpvt/bnt/gjdqwnd/gnnnslbh/nzpvt': 328734,\n             '//jbt/bbm/tvqh/vjdjl/nzpvt/bnt/gjdqwnd/gnnnslbh/vdjzwgz': 446294,\n             '//jbt/bbm/tvqh/vjdjl/nzpvt/bnt/gjdqwnd/gnnnslbh/vdjzwgz/zslhwc': 316145,\n             '//jbt/bbm/tvqh/vjdjl/nzpvt/bnt/gjdqwnd/gnnnslbh/vdjzwgz/zslhwc/lmhbnvzc': 316145,\n             '//jbt/bbm/tvqh/vjdjl/nzpvt/bnt/gjdqwnd/nnnh': 247235,\n             '//jbt/bbm/tvqh/vjdjl/nzpvt/bnt/rwr': 117412,\n             '//jbt/bbm/tvqh/vjdjl/nzpvt/bnt/tfvgnz': 301735,\n             '//jbt/bbm/tvqh/vjdjl/nzpvt/bnt/ztpflr': 466990,\n             '//jbt/bbm/tvqh/vjdjl/nzpvt/bnt/ztpflr/pfscczq': 466990,\n             '//jbt/bbm/tvqh/vjdjl/nzpvt/dtsr': 603334,\n             '//jbt/bbm/tvqh/vjdjl/nzpvt/rhqrs': 98744,\n             '//jbt/bbm/tvqh/vjdjl/nzpvt/rhqrs/bhrb': 98744,\n             '//jbt/bbm/tvqh/vjdjl/nzpvt/tdz': 294624,\n             '//jbt/bbm/tvqh/vjdjl/szrvs': 497443,\n             '//jbt/bbm/tvqh/vjdjl/wmbbn': 305042,\n             '//jbt/bbm/tvqh/zmgzph': 953933,\n             '//jbt/gqbvgbt': 522043,\n             '//jbt/gqbvgbt/jlh': 299381,\n             '//jbt/gqbvgbt/jlh/mlwz': 252054,\n             '//jbt/gqbvgbt/rvdfpd': 222662,\n             '//jbt/hzjzlwv': 138921,\n             '//jbt/jcstr': 224805,\n             '//jbt/llf': 3785411,\n             '//jbt/llf/dzpzvjw': 1885602,\n             '//jbt/llf/dzpzvjw/fct': 1164439,\n             '//jbt/llf/dzpzvjw/pfqcbp': 60445,\n             '//jbt/llf/dzpzvjw/pfqcbp/pfqcbp': 60445,\n             '//jbt/llf/dzpzvjw/sztbm': 165502,\n             '//jbt/llf/gvq': 1768035,\n             '//jbt/llf/gvq/dwtj': 239139,\n             '//jbt/llf/gvq/dwtj/qtrqhh': 239139,\n             '//jbt/llf/gvq/fnmvrslw': 792678,\n             '//jbt/llf/gvq/fnmvrslw/brzzr': 505240,\n             '//jbt/llf/gvq/tdz': 272369,\n             '//jbt/llf/gvq/tdz/stwrprz': 143929,\n             '//jbt/llf/gvq/tdz/zmrm': 128440,\n             '//jbt/llf/gvq/vndm': 463849,\n             '//jbt/llf/gvq/vndm/dnzlnmzc': 124512,\n             '//jbt/llf/gvq/vndm/fct': 339337,\n             '//nnn': 574287,\n             '//nnn/pfqcbp': 376261,\n             '//nnn/rlvfd': 198026,\n             '//qsdv': 119834,\n             '//tdl': 320007,\n             '//tmcpgtz': 11142386,\n             '//tmcpgtz/brbn': 188462,\n             '//tmcpgtz/brbn/hfdlq': 43395,\n             '//tmcpgtz/brt': 954599,\n             '//tmcpgtz/brt/fct': 199814,\n             '//tmcpgtz/brt/qnghcq': 305736,\n             '//tmcpgtz/brt/tgmrlh': 366178,\n             '//tmcpgtz/jhz': 2392959,\n             '//tmcpgtz/jhz/cqqlhrgf': 730062,\n             '//tmcpgtz/jhz/cqqlhrgf/gslvzq': 132083,\n             '//tmcpgtz/jhz/jjtjrsm': 66475,\n             '//tmcpgtz/jhz/nhjztw': 555011,\n             '//tmcpgtz/jhz/wdqmdszj': 224155,\n             '//tmcpgtz/rbdbtd': 214776,\n             '//tmcpgtz/tdz': 3949162,\n             '//tmcpgtz/tdz/jsqd': 1520301,\n             '//tmcpgtz/tdz/jsqd/dttzdnpb': 73557,\n             '//tmcpgtz/tdz/jsqd/nzpvt': 128962,\n             '//tmcpgtz/tdz/jsqd/pfqcbp': 260384,\n             '//tmcpgtz/tdz/mmgjzmcc': 255325,\n             '//tmcpgtz/tdz/nlfv': 660778,\n             '//tmcpgtz/tdz/nlfv/cfdj': 244185,\n             '//tmcpgtz/tdz/nlfv/wlzd': 140890,\n             '//tmcpgtz/tdz/nlfv/wlzd/vtpjz': 140890,\n             '//tmcpgtz/tdz/vpwmlq': 1140916,\n             '//tmcpgtz/tdz/vpwmlq/bmtrdpdl': 415928,\n             '//tmcpgtz/tdz/vpwmlq/cqvdppcg': 276847,\n             '//tmcpgtz/trflnpmw': 2985130,\n             '//tmcpgtz/trflnpmw/gfgn': 572715,\n             '//tmcpgtz/trflnpmw/jrlqjsc': 98803,\n             '//tmcpgtz/trflnpmw/nlfv': 534993,\n             '//tmcpgtz/trflnpmw/nlfv/fqt': 326788,\n             '//tmcpgtz/trflnpmw/phmdq': 1176081,\n             '//tmcpgtz/trflnpmw/phmdq/nlfv': 253884,\n             '//tmcpgtz/trflnpmw/qnvmpzv': 290671,\n             '//tmcpgtz/wldfm': 355699,\n             '//tmcpgtz/wldfm/gbzhcvn': 18543,\n             '//tmcpgtz/wldfm/hrw': 260983})"
     },
     "execution_count": 3,
     "metadata": {},
     "output_type": "execute_result"
    }
   ],
   "source": [
    "dev_dict"
   ],
   "metadata": {
    "collapsed": false,
    "pycharm": {
     "name": "#%%\n"
    }
   }
  },
  {
   "cell_type": "code",
   "execution_count": 5,
   "outputs": [],
   "source": [
    "max_used = 70000000 - 30000000\n",
    "total_used = dev_dict['/']\n",
    "need_to_free = total_used - max_used"
   ],
   "metadata": {
    "collapsed": false,
    "pycharm": {
     "name": "#%%\n"
    }
   }
  },
  {
   "cell_type": "code",
   "execution_count": 10,
   "outputs": [
    {
     "data": {
      "text/plain": "1449447"
     },
     "execution_count": 10,
     "metadata": {},
     "output_type": "execute_result"
    }
   ],
   "source": [
    "#PART 1\n",
    "total = 0\n",
    "for k,v in dev_dict.items():\n",
    "    if v <= 100000:\n",
    "        total += v\n",
    "\n",
    "total\n"
   ],
   "metadata": {
    "collapsed": false,
    "pycharm": {
     "name": "#%%\n"
    }
   }
  },
  {
   "cell_type": "code",
   "execution_count": 12,
   "outputs": [
    {
     "data": {
      "text/plain": "8679207"
     },
     "execution_count": 12,
     "metadata": {},
     "output_type": "execute_result"
    }
   ],
   "source": [
    "# PART 2\n",
    "part2 = 1e9\n",
    "for i,j in dev_dict.items():\n",
    "\n",
    "    if j>=need_to_free:\n",
    "        p2 = min(part2, j)\n",
    "part2"
   ],
   "metadata": {
    "collapsed": false,
    "pycharm": {
     "name": "#%%\n"
    }
   }
  },
  {
   "cell_type": "code",
   "execution_count": 35,
   "outputs": [],
   "source": [],
   "metadata": {
    "collapsed": false,
    "pycharm": {
     "name": "#%%\n"
    }
   }
  }
 ],
 "metadata": {
  "kernelspec": {
   "display_name": "Python 3",
   "language": "python",
   "name": "python3"
  },
  "language_info": {
   "codemirror_mode": {
    "name": "ipython",
    "version": 2
   },
   "file_extension": ".py",
   "mimetype": "text/x-python",
   "name": "python",
   "nbconvert_exporter": "python",
   "pygments_lexer": "ipython2",
   "version": "2.7.6"
  }
 },
 "nbformat": 4,
 "nbformat_minor": 0
}